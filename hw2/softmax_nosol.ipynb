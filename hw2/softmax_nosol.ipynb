{
 "cells": [
  {
   "cell_type": "markdown",
   "metadata": {},
   "source": [
    "## This is the softmax workbook for ECE C147/C247 Assignment #2\n",
    "\n",
    "Please follow the notebook linearly to implement a softmax classifier.\n",
    "\n",
    "Please print out the workbook entirely when completed.\n",
    "\n",
    "The goal of this workbook is to give you experience with training a softmax classifier."
   ]
  },
  {
   "cell_type": "code",
   "execution_count": 1,
   "metadata": {},
   "outputs": [],
   "source": [
    "import random\n",
    "import numpy as np\n",
    "from utils.data_utils import load_CIFAR10\n",
    "import matplotlib.pyplot as plt\n",
    "\n",
    "%matplotlib inline\n",
    "%load_ext autoreload\n",
    "%autoreload 2"
   ]
  },
  {
   "cell_type": "code",
   "execution_count": 2,
   "metadata": {
    "scrolled": true
   },
   "outputs": [
    {
     "name": "stdout",
     "output_type": "stream",
     "text": [
      "Train data shape:  (49000, 3073)\n",
      "Train labels shape:  (49000,)\n",
      "Validation data shape:  (1000, 3073)\n",
      "Validation labels shape:  (1000,)\n",
      "Test data shape:  (1000, 3073)\n",
      "Test labels shape:  (1000,)\n",
      "dev data shape:  (500, 3073)\n",
      "dev labels shape:  (500,)\n"
     ]
    }
   ],
   "source": [
    "def get_CIFAR10_data(num_training=49000, num_validation=1000, num_test=1000, num_dev=500):\n",
    "    \"\"\"\n",
    "    Load the CIFAR-10 dataset from disk and perform preprocessing to prepare\n",
    "    it for the linear classifier. These are the same steps as we used for the\n",
    "    SVM, but condensed to a single function.  \n",
    "    \"\"\"\n",
    "    # Load the raw CIFAR-10 data\n",
    "    cifar10_dir = 'cifar-10-batches-py' # You need to update this line\n",
    "    X_train, y_train, X_test, y_test = load_CIFAR10(cifar10_dir)\n",
    "    \n",
    "    # subsample the data\n",
    "    mask = list(range(num_training, num_training + num_validation))\n",
    "    X_val = X_train[mask]\n",
    "    y_val = y_train[mask]\n",
    "    mask = list(range(num_training))\n",
    "    X_train = X_train[mask]\n",
    "    y_train = y_train[mask]\n",
    "    mask = list(range(num_test))\n",
    "    X_test = X_test[mask]\n",
    "    y_test = y_test[mask]\n",
    "    mask = np.random.choice(num_training, num_dev, replace=False)\n",
    "    X_dev = X_train[mask]\n",
    "    y_dev = y_train[mask]\n",
    "    \n",
    "    # Preprocessing: reshape the image data into rows\n",
    "    X_train = np.reshape(X_train, (X_train.shape[0], -1))\n",
    "    X_val = np.reshape(X_val, (X_val.shape[0], -1))\n",
    "    X_test = np.reshape(X_test, (X_test.shape[0], -1))\n",
    "    X_dev = np.reshape(X_dev, (X_dev.shape[0], -1))\n",
    "    \n",
    "    # Normalize the data: subtract the mean image\n",
    "    mean_image = np.mean(X_train, axis = 0)\n",
    "    X_train -= mean_image\n",
    "    X_val -= mean_image\n",
    "    X_test -= mean_image\n",
    "    X_dev -= mean_image\n",
    "    \n",
    "    # add bias dimension and transform into columns\n",
    "    X_train = np.hstack([X_train, np.ones((X_train.shape[0], 1))])\n",
    "    X_val = np.hstack([X_val, np.ones((X_val.shape[0], 1))])\n",
    "    X_test = np.hstack([X_test, np.ones((X_test.shape[0], 1))])\n",
    "    X_dev = np.hstack([X_dev, np.ones((X_dev.shape[0], 1))])\n",
    "    \n",
    "    return X_train, y_train, X_val, y_val, X_test, y_test, X_dev, y_dev\n",
    "\n",
    "\n",
    "# Invoke the above function to get our data.\n",
    "X_train, y_train, X_val, y_val, X_test, y_test, X_dev, y_dev = get_CIFAR10_data()\n",
    "print('Train data shape: ', X_train.shape)\n",
    "print('Train labels shape: ', y_train.shape)\n",
    "print('Validation data shape: ', X_val.shape)\n",
    "print('Validation labels shape: ', y_val.shape)\n",
    "print('Test data shape: ', X_test.shape)\n",
    "print('Test labels shape: ', y_test.shape)\n",
    "print('dev data shape: ', X_dev.shape)\n",
    "print('dev labels shape: ', y_dev.shape)"
   ]
  },
  {
   "cell_type": "markdown",
   "metadata": {},
   "source": [
    "## Training a softmax classifier.\n",
    "\n",
    "The following cells will take you through building a softmax classifier.  You will implement its loss function, then subsequently train it with gradient descent.  Finally, you will choose the learning rate of gradient descent to optimize its classification performance."
   ]
  },
  {
   "cell_type": "code",
   "execution_count": 3,
   "metadata": {},
   "outputs": [],
   "source": [
    "from nndl import Softmax"
   ]
  },
  {
   "cell_type": "code",
   "execution_count": 4,
   "metadata": {},
   "outputs": [],
   "source": [
    "# Declare an instance of the Softmax class.  \n",
    "# Weights are initialized to a random value.\n",
    "# Note, to keep people's first solutions consistent, we are going to use a random seed.\n",
    "\n",
    "np.random.seed(1)\n",
    "\n",
    "num_classes = len(np.unique(y_train))\n",
    "num_features = X_train.shape[1]\n",
    "\n",
    "softmax = Softmax(dims=[num_classes, num_features])"
   ]
  },
  {
   "cell_type": "markdown",
   "metadata": {},
   "source": [
    "#### Softmax loss"
   ]
  },
  {
   "cell_type": "code",
   "execution_count": 5,
   "metadata": {},
   "outputs": [],
   "source": [
    "## Implement the loss function of the softmax using a for loop over\n",
    "#  the number of examples\n",
    "\n",
    "loss = softmax.loss(X_train, y_train)"
   ]
  },
  {
   "cell_type": "code",
   "execution_count": 6,
   "metadata": {},
   "outputs": [
    {
     "name": "stdout",
     "output_type": "stream",
     "text": [
      "2.3277607028048966\n"
     ]
    }
   ],
   "source": [
    "print(loss)"
   ]
  },
  {
   "cell_type": "markdown",
   "metadata": {},
   "source": [
    "## Question: \n",
    "\n",
    "You'll notice the loss returned by the softmax is about 2.3 (if implemented correctly).  Why does this make sense?"
   ]
  },
  {
   "cell_type": "markdown",
   "metadata": {},
   "source": [
    "## Answer:\n",
    "\n",
    "Because the weight is initialized randomly, and the model just started to learn from this random setting. It's relatively normal to have this big loss with such random hyperparameters. "
   ]
  },
  {
   "cell_type": "markdown",
   "metadata": {},
   "source": [
    "#### Softmax gradient"
   ]
  },
  {
   "cell_type": "code",
   "execution_count": 7,
   "metadata": {
    "scrolled": false
   },
   "outputs": [
    {
     "name": "stdout",
     "output_type": "stream",
     "text": [
      "numerical: -1.030512 analytic: -1.030512, relative error: 6.256920e-09\n",
      "numerical: 0.796195 analytic: 0.796195, relative error: 8.821414e-08\n",
      "numerical: 0.436576 analytic: 0.436576, relative error: 7.799760e-08\n",
      "numerical: 1.335909 analytic: 1.335909, relative error: 2.320656e-08\n",
      "numerical: -2.407785 analytic: -2.407786, relative error: 2.620470e-08\n",
      "numerical: 2.883390 analytic: 2.883390, relative error: 1.357366e-08\n",
      "numerical: 1.962208 analytic: 1.962208, relative error: 3.038807e-08\n",
      "numerical: 0.738364 analytic: 0.738364, relative error: 3.179276e-08\n",
      "numerical: -0.389248 analytic: -0.389248, relative error: 2.596899e-08\n",
      "numerical: -3.681256 analytic: -3.681256, relative error: 1.626794e-08\n"
     ]
    }
   ],
   "source": [
    "## Calculate the gradient of the softmax loss in the Softmax class.\n",
    "# For convenience, we'll write one function that computes the loss\n",
    "#   and gradient together, softmax.loss_and_grad(X, y)\n",
    "# You may copy and paste your loss code from softmax.loss() here, and then\n",
    "#   use the appropriate intermediate values to calculate the gradient.\n",
    "\n",
    "loss, grad = softmax.loss_and_grad(X_dev,y_dev)\n",
    "\n",
    "# Compare your gradient to a gradient check we wrote. \n",
    "# You should see relative gradient errors on the order of 1e-07 or less if you implemented the gradient correctly.\n",
    "softmax.grad_check_sparse(X_dev, y_dev, grad)"
   ]
  },
  {
   "cell_type": "markdown",
   "metadata": {},
   "source": [
    "## A vectorized version of Softmax\n",
    "\n",
    "To speed things up, we will vectorize the loss and gradient calculations.  This will be helpful for stochastic gradient descent."
   ]
  },
  {
   "cell_type": "code",
   "execution_count": 8,
   "metadata": {},
   "outputs": [],
   "source": [
    "import time"
   ]
  },
  {
   "cell_type": "code",
   "execution_count": 9,
   "metadata": {},
   "outputs": [
    {
     "name": "stdout",
     "output_type": "stream",
     "text": [
      "Normal loss / grad_norm: 2.334857237563263 / 335.1304937401173 computed in 0.07067537307739258s\n",
      "Vectorized loss / grad: 2.334857237563263 / 335.1304937401173 computed in 0.0030019283294677734s\n",
      "difference in loss / grad: 0.0 /2.280220406235628e-13 \n"
     ]
    }
   ],
   "source": [
    "## Implement softmax.fast_loss_and_grad which calculates the loss and gradient\n",
    "#    WITHOUT using any for loops.  \n",
    "\n",
    "# Standard loss and gradient\n",
    "tic = time.time()\n",
    "loss, grad = softmax.loss_and_grad(X_dev, y_dev)\n",
    "toc = time.time()\n",
    "print('Normal loss / grad_norm: {} / {} computed in {}s'.format(loss, np.linalg.norm(grad, 'fro'), toc - tic))\n",
    "\n",
    "tic = time.time()\n",
    "loss_vectorized, grad_vectorized = softmax.fast_loss_and_grad(X_dev, y_dev)\n",
    "toc = time.time()\n",
    "print('Vectorized loss / grad: {} / {} computed in {}s'.format(loss_vectorized, np.linalg.norm(grad_vectorized, 'fro'), toc - tic))\n",
    "\n",
    "# The losses should match but your vectorized implementation should be much faster.\n",
    "print('difference in loss / grad: {} /{} '.format(loss - loss_vectorized, np.linalg.norm(grad - grad_vectorized)))\n",
    "\n",
    "# You should notice a speedup with the same output."
   ]
  },
  {
   "cell_type": "markdown",
   "metadata": {},
   "source": [
    "## Stochastic gradient descent\n",
    "\n",
    "We now implement stochastic gradient descent.  This uses the same principles of gradient descent we discussed in class, however, it calculates the gradient by only using examples from a subset of the training set (so each gradient calculation is faster)."
   ]
  },
  {
   "cell_type": "code",
   "execution_count": 10,
   "metadata": {
    "scrolled": false
   },
   "outputs": [
    {
     "name": "stdout",
     "output_type": "stream",
     "text": [
      "iteration 0 / 1500: loss 2.346153231188665\n",
      "iteration 100 / 1500: loss 2.0955428426815064\n",
      "iteration 200 / 1500: loss 1.9668666099527448\n",
      "iteration 300 / 1500: loss 1.885297391817213\n",
      "iteration 400 / 1500: loss 1.8522014641195557\n",
      "iteration 500 / 1500: loss 1.9512340068812273\n",
      "iteration 600 / 1500: loss 1.857901480470602\n",
      "iteration 700 / 1500: loss 1.7959130014541416\n",
      "iteration 800 / 1500: loss 1.9312141363379813\n",
      "iteration 900 / 1500: loss 1.80790753492161\n",
      "iteration 1000 / 1500: loss 1.9750522729221478\n",
      "iteration 1100 / 1500: loss 1.9082541479698056\n",
      "iteration 1200 / 1500: loss 1.9097425139740658\n",
      "iteration 1300 / 1500: loss 1.806700210936916\n",
      "iteration 1400 / 1500: loss 1.9057407157069464\n",
      "That took 4.674388647079468s\n"
     ]
    },
    {
     "data": {
      "image/png": "[encoded data removed]",
      "text/plain": [
       "<Figure size 640x480 with 1 Axes>"
      ]
     },
     "metadata": {},
     "output_type": "display_data"
    }
   ],
   "source": [
    "# Implement softmax.train() by filling in the code to extract a batch of data\n",
    "# and perform the gradient step.\n",
    "import time\n",
    "\n",
    "\n",
    "tic = time.time()\n",
    "loss_hist = softmax.train(X_train, y_train, learning_rate=1e-7,\n",
    "                      num_iters=1500, verbose=True)\n",
    "toc = time.time()\n",
    "print('That took {}s'.format(toc - tic))\n",
    "\n",
    "plt.plot(loss_hist)\n",
    "plt.xlabel('Iteration number')\n",
    "plt.ylabel('Loss value')\n",
    "plt.show()"
   ]
  },
  {
   "cell_type": "markdown",
   "metadata": {},
   "source": [
    "### Evaluate the performance of the trained softmax classifier on the validation data."
   ]
  },
  {
   "cell_type": "code",
   "execution_count": 11,
   "metadata": {},
   "outputs": [
    {
     "name": "stdout",
     "output_type": "stream",
     "text": [
      "training accuracy: 0.3816122448979592\n",
      "validation accuracy: 0.397\n"
     ]
    }
   ],
   "source": [
    "## Implement softmax.predict() and use it to compute the training and testing error.\n",
    "\n",
    "y_train_pred = softmax.predict(X_train)\n",
    "print('training accuracy: {}'.format(np.mean(np.equal(y_train,y_train_pred), )))\n",
    "y_val_pred = softmax.predict(X_val)\n",
    "print('validation accuracy: {}'.format(np.mean(np.equal(y_val, y_val_pred)), ))"
   ]
  },
  {
   "cell_type": "markdown",
   "metadata": {},
   "source": [
    "## Optimize the softmax classifier"
   ]
  },
  {
   "cell_type": "code",
   "execution_count": 12,
   "metadata": {},
   "outputs": [
    {
     "data": {
      "text/plain": [
       "2.220446049250313e-16"
      ]
     },
     "execution_count": 12,
     "metadata": {},
     "output_type": "execute_result"
    }
   ],
   "source": [
    "np.finfo(float).eps"
   ]
  },
  {
   "cell_type": "code",
   "execution_count": 13,
   "metadata": {
    "scrolled": false
   },
   "outputs": [
    {
     "name": "stdout",
     "output_type": "stream",
     "text": [
      "------------------- 1e-07 --------------------\n",
      "iteration 0 / 1500: loss 2.3080935028528735\n",
      "iteration 100 / 1500: loss 2.088078286409454\n",
      "iteration 200 / 1500: loss 1.9737481671061914\n",
      "iteration 300 / 1500: loss 1.9009439086653162\n",
      "iteration 400 / 1500: loss 1.8711769149725495\n",
      "iteration 500 / 1500: loss 1.9475241088796553\n",
      "iteration 600 / 1500: loss 1.8817072035481135\n",
      "iteration 700 / 1500: loss 1.8116596772876468\n",
      "iteration 800 / 1500: loss 1.9417392765156865\n",
      "iteration 900 / 1500: loss 1.8116714372917029\n",
      "iteration 1000 / 1500: loss 1.9543951416368546\n",
      "iteration 1100 / 1500: loss 1.9205875939965034\n",
      "iteration 1200 / 1500: loss 1.9156458345487506\n",
      "iteration 1300 / 1500: loss 1.819541318777948\n",
      "iteration 1400 / 1500: loss 1.8974927120335088\n",
      "training accuracy: 0.3806734693877551\n",
      "validation accuracy: 0.382\n",
      "------------------- 5e-07 --------------------\n",
      "iteration 0 / 1500: loss 2.3080935028528735\n",
      "iteration 100 / 1500: loss 1.9643087008795124\n",
      "iteration 200 / 1500: loss 1.8179061145096023\n",
      "iteration 300 / 1500: loss 1.7678102502645887\n",
      "iteration 400 / 1500: loss 1.7658724140148392\n",
      "iteration 500 / 1500: loss 1.8565657617097742\n",
      "iteration 600 / 1500: loss 1.7868322260523548\n",
      "iteration 700 / 1500: loss 1.711706517734723\n",
      "iteration 800 / 1500: loss 1.8491638173284601\n",
      "iteration 900 / 1500: loss 1.7118316330650771\n",
      "iteration 1000 / 1500: loss 1.867744875642664\n",
      "iteration 1100 / 1500: loss 1.8428181149986043\n",
      "iteration 1200 / 1500: loss 1.8696034578550873\n",
      "iteration 1300 / 1500: loss 1.7419073140047912\n",
      "iteration 1400 / 1500: loss 1.8170228181146129\n",
      "training accuracy: 0.4127142857142857\n",
      "validation accuracy: 0.402\n",
      "------------------- 1e-06 --------------------\n",
      "iteration 0 / 1500: loss 2.3080935028528735\n",
      "iteration 100 / 1500: loss 1.9186971554452188\n",
      "iteration 200 / 1500: loss 1.7745187411018768\n",
      "iteration 300 / 1500: loss 1.7350044106921205\n",
      "iteration 400 / 1500: loss 1.75502576419844\n",
      "iteration 500 / 1500: loss 1.823081760103538\n",
      "iteration 600 / 1500: loss 1.7568656795839956\n",
      "iteration 700 / 1500: loss 1.688959896929452\n",
      "iteration 800 / 1500: loss 1.8335626240543867\n",
      "iteration 900 / 1500: loss 1.6846241111568043\n",
      "iteration 1000 / 1500: loss 1.8418926479342916\n",
      "iteration 1100 / 1500: loss 1.8292299136230854\n",
      "iteration 1200 / 1500: loss 1.8622774987974162\n",
      "iteration 1300 / 1500: loss 1.7134720968871904\n",
      "iteration 1400 / 1500: loss 1.783739467094901\n",
      "training accuracy: 0.42351020408163265\n",
      "validation accuracy: 0.403\n",
      "------------------- 5e-06 --------------------\n",
      "iteration 0 / 1500: loss 2.3080935028528735\n",
      "iteration 100 / 1500: loss 1.9212918186771015\n",
      "iteration 200 / 1500: loss 1.7835217817111078\n",
      "iteration 300 / 1500: loss 1.9334639068976798\n",
      "iteration 400 / 1500: loss 1.7960270039112636\n",
      "iteration 500 / 1500: loss 1.9194657711035676\n",
      "iteration 600 / 1500: loss 1.8478681226672609\n",
      "iteration 700 / 1500: loss 1.6697051835907604\n",
      "iteration 800 / 1500: loss 2.0380377927691273\n",
      "iteration 900 / 1500: loss 1.7241544744352015\n",
      "iteration 1000 / 1500: loss 1.86774728489728\n",
      "iteration 1100 / 1500: loss 1.9442419138612086\n",
      "iteration 1200 / 1500: loss 1.9250309771112393\n",
      "iteration 1300 / 1500: loss 1.690166647090241\n",
      "iteration 1400 / 1500: loss 1.8037780552022458\n",
      "training accuracy: 0.3939183673469388\n",
      "validation accuracy: 0.366\n",
      "------------------- 1e-05 --------------------\n",
      "iteration 0 / 1500: loss 2.3080935028528735\n",
      "iteration 100 / 1500: loss 2.9974218272846\n",
      "iteration 200 / 1500: loss 2.627939717098702\n",
      "iteration 300 / 1500: loss 2.9034617883423817\n",
      "iteration 400 / 1500: loss 2.515419600974555\n",
      "iteration 500 / 1500: loss 2.9075329825992924\n",
      "iteration 600 / 1500: loss 2.2756652183266883\n",
      "iteration 700 / 1500: loss 2.040270215431691\n",
      "iteration 800 / 1500: loss 3.9171574832099116\n",
      "iteration 900 / 1500: loss 2.80144671816904\n",
      "iteration 1000 / 1500: loss 2.4893722818282136\n",
      "iteration 1100 / 1500: loss 2.756733633947948\n",
      "iteration 1200 / 1500: loss 2.4494670001161953\n",
      "iteration 1300 / 1500: loss 2.233830760219704\n",
      "iteration 1400 / 1500: loss 2.447290464123921\n",
      "training accuracy: 0.31740816326530613\n",
      "validation accuracy: 0.305\n",
      "------------------- 1e-06 --------------------\n",
      "iteration 0 / 1500: loss 2.3080935028528735\n",
      "iteration 100 / 1500: loss 1.9186971554452188\n",
      "iteration 200 / 1500: loss 1.7745187411018768\n",
      "iteration 300 / 1500: loss 1.7350044106921205\n",
      "iteration 400 / 1500: loss 1.75502576419844\n",
      "iteration 500 / 1500: loss 1.823081760103538\n",
      "iteration 600 / 1500: loss 1.7568656795839956\n",
      "iteration 700 / 1500: loss 1.688959896929452\n",
      "iteration 800 / 1500: loss 1.8335626240543867\n",
      "iteration 900 / 1500: loss 1.6846241111568043\n",
      "iteration 1000 / 1500: loss 1.8418926479342916\n",
      "iteration 1100 / 1500: loss 1.8292299136230854\n",
      "iteration 1200 / 1500: loss 1.8622774987974162\n",
      "iteration 1300 / 1500: loss 1.7134720968871904\n",
      "iteration 1400 / 1500: loss 1.783739467094901\n",
      "training accuracy: 0.42351020408163265\n",
      "validation accuracy: 0.403\n",
      "------------------- 2e-06 --------------------\n",
      "iteration 0 / 1500: loss 2.3080935028528735\n",
      "iteration 100 / 1500: loss 1.8819116413473722\n",
      "iteration 200 / 1500: loss 1.7512884191683513\n",
      "iteration 300 / 1500: loss 1.72526590898587\n",
      "iteration 400 / 1500: loss 1.7536591835911082\n",
      "iteration 500 / 1500: loss 1.8050614811323524\n",
      "iteration 600 / 1500: loss 1.7414875624685486\n",
      "iteration 700 / 1500: loss 1.6695310628790074\n",
      "iteration 800 / 1500: loss 1.8447519332198505\n",
      "iteration 900 / 1500: loss 1.677335548788284\n",
      "iteration 1000 / 1500: loss 1.823086597002168\n",
      "iteration 1100 / 1500: loss 1.8391500382887747\n",
      "iteration 1200 / 1500: loss 1.8635518853107222\n",
      "iteration 1300 / 1500: loss 1.694450143957738\n",
      "iteration 1400 / 1500: loss 1.7610843594375223\n",
      "training accuracy: 0.4265510204081633\n",
      "validation accuracy: 0.404\n",
      "------------------- 3e-06 --------------------\n",
      "iteration 0 / 1500: loss 2.3080935028528735\n",
      "iteration 100 / 1500: loss 1.8705355278558704\n",
      "iteration 200 / 1500: loss 1.751615651027346\n",
      "iteration 300 / 1500: loss 1.752231511956399\n",
      "iteration 400 / 1500: loss 1.755868689662769\n",
      "iteration 500 / 1500: loss 1.811694713209511\n",
      "iteration 600 / 1500: loss 1.7480674303954333\n",
      "iteration 700 / 1500: loss 1.6630159811187974\n",
      "iteration 800 / 1500: loss 1.8850153725186858\n",
      "iteration 900 / 1500: loss 1.6882034534603958\n",
      "iteration 1000 / 1500: loss 1.8226951980524018\n",
      "iteration 1100 / 1500: loss 1.862393203130713\n",
      "iteration 1200 / 1500: loss 1.8740835057364802\n",
      "iteration 1300 / 1500: loss 1.6901958733113225\n",
      "iteration 1400 / 1500: loss 1.7575502075333618\n",
      "training accuracy: 0.4223061224489796\n",
      "validation accuracy: 0.4\n",
      "------------------- 4e-06 --------------------\n",
      "iteration 0 / 1500: loss 2.3080935028528735\n",
      "iteration 100 / 1500: loss 1.8780138187723154\n",
      "iteration 200 / 1500: loss 1.7627568616401594\n",
      "iteration 300 / 1500: loss 1.8226361980040866\n",
      "iteration 400 / 1500: loss 1.7656609262305905\n",
      "iteration 500 / 1500: loss 1.8465962008306809\n",
      "iteration 600 / 1500: loss 1.7769814205108676\n",
      "iteration 700 / 1500: loss 1.6645361288941192\n",
      "iteration 800 / 1500: loss 1.9492038913021161\n",
      "iteration 900 / 1500: loss 1.704593443775044\n",
      "iteration 1000 / 1500: loss 1.835253857468352\n",
      "iteration 1100 / 1500: loss 1.8946641975039438\n",
      "iteration 1200 / 1500: loss 1.8937066752695921\n",
      "iteration 1300 / 1500: loss 1.6895359813128326\n",
      "iteration 1400 / 1500: loss 1.7679721006988678\n",
      "training accuracy: 0.40977551020408165\n",
      "validation accuracy: 0.379\n"
     ]
    }
   ],
   "source": [
    "# ================================================================ #\n",
    "# YOUR CODE HERE:\n",
    "#   Train the Softmax classifier with different learning rates and \n",
    "#     evaluate on the validation data.\n",
    "#   Report:\n",
    "#     - The best learning rate of the ones you tested.  \n",
    "#     - The best validation accuracy corresponding to the best validation error.\n",
    "#\n",
    "#   Select the SVM that achieved the best validation error and report\n",
    "#     its error rate on the test set.\n",
    "# ================================================================ #\n",
    "\n",
    "learning_rates = [1e-7, 5e-7, 1e-6, 5e-6, 1e-5]\n",
    "\n",
    "for lr in learning_rates:\n",
    "    print('-------------------',str(lr),'--------------------')\n",
    "    loss_hist = softmax.train(X_train, y_train, learning_rate=lr,\n",
    "                      num_iters=1500, verbose=True)\n",
    "\n",
    "    y_train_pred = softmax.predict(X_train)\n",
    "    print('training accuracy: {}'.format(np.mean(np.equal(y_train,y_train_pred), )))\n",
    "    y_val_pred = softmax.predict(X_val)\n",
    "    print('validation accuracy: {}'.format(np.mean(np.equal(y_val, y_val_pred)), ))\n",
    "    \n",
    "learning_rates = [1e-6, 2e-6, 3e-6, 4e-6]\n",
    "\n",
    "for lr in learning_rates:\n",
    "    print('-------------------',str(lr),'--------------------')\n",
    "    loss_hist = softmax.train(X_train, y_train, learning_rate=lr,\n",
    "                      num_iters=1500, verbose=True)\n",
    "\n",
    "    y_train_pred = softmax.predict(X_train)\n",
    "    print('training accuracy: {}'.format(np.mean(np.equal(y_train,y_train_pred), )))\n",
    "    y_val_pred = softmax.predict(X_val)\n",
    "    print('validation accuracy: {}'.format(np.mean(np.equal(y_val, y_val_pred)), ))\n",
    "\n",
    "# ================================================================ #\n",
    "# END YOUR CODE HERE\n",
    "# ================================================================ #\n"
   ]
  },
  {
   "cell_type": "markdown",
   "metadata": {},
   "source": [
    "Since the initial learning rate is 1e-7 and based on the graph shows, the loss is decreasing but not smooth enough. Thus, I decided t ostart from 1e-7 and constantly increase the learning rate and find the optimal lr which gives me the best accuracy. I found 2e-6 is a good learning rate with \n",
    "### lr: 2e-6\n",
    "### training accuracy: 0.4265510204081633\n",
    "### validation accuracy: 0.404"
   ]
  },
  {
   "cell_type": "code",
   "execution_count": null,
   "metadata": {},
   "outputs": [],
   "source": []
  }
 ],
 "metadata": {
  "kernelspec": {
   "display_name": "Python 3 (ipykernel)",
   "language": "python",
   "name": "python3"
  },
  "language_info": {
   "codemirror_mode": {
    "name": "ipython",
    "version": 3
   },
   "file_extension": ".py",
   "mimetype": "text/x-python",
   "name": "python",
   "nbconvert_exporter": "python",
   "pygments_lexer": "ipython3",
   "version": "3.7.16"
  }
 },
 "nbformat": 4,
 "nbformat_minor": 2
}
