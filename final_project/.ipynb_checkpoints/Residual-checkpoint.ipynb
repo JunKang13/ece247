{
 "cells": [
  {
   "cell_type": "code",
   "execution_count": 1,
   "id": "1d9be0cb-f465-48f4-9817-e1fab330f0fd",
   "metadata": {},
   "outputs": [
    {
     "name": "stdout",
     "output_type": "stream",
     "text": [
      "Device mapping: no known devices.\n"
     ]
    }
   ],
   "source": [
    "import matplotlib.pyplot as plt\n",
    "import tensorflow as tf\n",
    "import datetime\n",
    "from tensorflow.keras.models import Sequential\n",
    "from tensorflow.keras.layers import Dense, Dropout, Activation, Flatten, Conv2D, BatchNormalization, MaxPooling2D, Reshape, LSTM, add, AveragePooling2D\n",
    "from tensorflow.keras.optimizers import Adam\n",
    "from tensorflow.keras.initializers import glorot_uniform, he_uniform\n",
    "from tensorflow.keras.regularizers import l2\n",
    "from tensorflow.keras.callbacks import EarlyStopping\n",
    "from tensorflow.keras.utils import to_categorical\n",
    "from utils import *\n"
   ]
  },
  {
   "cell_type": "markdown",
   "id": "2f9dc5b7-3e40-4990-b0e6-0cf6058ca878",
   "metadata": {},
   "source": [
    "## Data Loading"
   ]
  },
  {
   "cell_type": "markdown",
   "id": "96174639-00ff-4738-b887-d5485e574430",
   "metadata": {},
   "source": [
    "### Raw Data"
   ]
  },
  {
   "cell_type": "code",
   "execution_count": null,
   "id": "a3eecab3-81fe-4a62-ad32-f91d92a22b59",
   "metadata": {},
   "outputs": [],
   "source": [
    "X_train, y_train, X_test, y_test = init_data(subject=None, verbose=True)"
   ]
  },
  {
   "cell_type": "markdown",
   "id": "01defba2-7b4c-4486-bcc5-d2129255ba22",
   "metadata": {},
   "source": [
    "### Data Augmentation"
   ]
  },
  {
   "cell_type": "code",
   "execution_count": 2,
   "id": "b6842973-f261-4f6b-b7bb-ac0f474085f1",
   "metadata": {},
   "outputs": [
    {
     "ename": "NameError",
     "evalue": "name 'X_train' is not defined",
     "output_type": "error",
     "traceback": [
      "\u001b[1;31m---------------------------------------------------------------------------\u001b[0m",
      "\u001b[1;31mNameError\u001b[0m                                 Traceback (most recent call last)",
      "Cell \u001b[1;32mIn[2], line 1\u001b[0m\n\u001b[1;32m----> 1\u001b[0m X_train_aug, y_train_aug, X_test_aug, y_test_aug, X_valid_aug, y_valid_aug\u001b[38;5;241m=\u001b[39m preprocess_data(\u001b[43mX_train\u001b[49m, y_train, X_test, y_test, verbose\u001b[38;5;241m=\u001b[39m\u001b[38;5;28;01mTrue\u001b[39;00m)\n\u001b[0;32m      2\u001b[0m x_train_aug, y_train_aug, x_valid_aug, y_valid_aug, x_test_aug, y_test_aug \u001b[38;5;241m=\u001b[39m load_data(X_train_aug, y_train_aug, X_valid_aug, y_valid_aug, X_test_aug, y_test_aug, verbose\u001b[38;5;241m=\u001b[39m\u001b[38;5;28;01mTrue\u001b[39;00m)\n",
      "\u001b[1;31mNameError\u001b[0m: name 'X_train' is not defined"
     ]
    }
   ],
   "source": [
    "X_train_aug, y_train_aug, X_test_aug, y_test_aug, X_valid_aug, y_valid_aug= preprocess_data(X_train, y_train, X_test, y_test, verbose=True)\n",
    "x_train_aug, y_train_aug, x_valid_aug, y_valid_aug, x_test_aug, y_test_aug = load_data(X_train_aug, y_train_aug, X_valid_aug, y_valid_aug, X_test_aug, y_test_aug, verbose=True)"
   ]
  },
  {
   "cell_type": "markdown",
   "id": "8c65c0cf-20b8-49bc-9c2b-2e87cc191411",
   "metadata": {},
   "source": [
    "### Data CWT"
   ]
  },
  {
   "cell_type": "code",
   "execution_count": null,
   "id": "45f78113-f6b3-4675-96a0-2d42a8807513",
   "metadata": {},
   "outputs": [],
   "source": [
    "X_train, y_train, X_test, y_test = init_data(subject=None)\n",
    "X_train, y_train, X_test, y_test, X_valid, y_valid = preprocess_data(X_train, y_train, X_test, y_test, verbose=True)\n",
    "\n",
    "scales = np.arange(1, 7)\n",
    "\n",
    "X_train_cwt = cwt_transform(X_train, scales, ricker, verbose=True)\n",
    "X_valid_cwt = cwt_transform(X_valid, scales, ricker, verbose=True)\n",
    "X_test_cwt = cwt_transform(X_test, scales, ricker, verbose=True)\n",
    "\n",
    "# X_train_cwt, y_train_cwt, X_test_cwt, y_test_cwt, X_valid_cwt, y_valid_cwt= preprocess_data(X_train_cwt, y_train, X_test_cwt, y_test, verbose=True)\n",
    "# X_train_cwt, y_train_cwt, X_valid_cwt, y_valid_cwt, X_test_cwt, y_test_cwt = load_data(X_train_cwt, y_train_cwt, X_valid_cwt, y_valid_cwt, X_test_cwt, y_test_cwt, verbose=True)\n",
    "\n",
    "\n",
    "\n",
    "y_train_cwt = to_categorical(y_train, 4)\n",
    "y_valid_cwt = to_categorical(y_valid, 4)\n",
    "y_test_cwt = to_categorical(y_test, 4)\n",
    "\n",
    "x_train_cwt = np.swapaxes(X_train_cwt, 1, 3)\n",
    "x_valid_cwt = np.swapaxes(X_valid_cwt, 1, 3)\n",
    "x_test_cwt = np.swapaxes(X_test_cwt, 1, 3)\n"
   ]
  },
  {
   "cell_type": "markdown",
   "id": "7f8571b0-b8ff-48ce-93da-d77bb88977b1",
   "metadata": {},
   "source": [
    "## MaxPool_CNN_v2 w/Residual block"
   ]
  },
  {
   "cell_type": "code",
   "execution_count": null,
   "id": "0896f15f-bf19-4d63-8b6c-a52e9917df7f",
   "metadata": {},
   "outputs": [],
   "source": [
    "from tensorflow.keras.models import Model\n",
    "from tensorflow.keras.layers import Input, Conv2D, MaxPooling2D, BatchNormalization, Dropout, Dense, Flatten, add, Activation\n",
    "from tensorflow.keras.initializers import glorot_uniform\n",
    "from tensorflow.keras.regularizers import l2\n",
    "from tensorflow.keras.optimizers import Adam\n",
    "\n",
    "def residual_block(X, filters, dropout, kernel_size=(4,1), adjust_filters=False):\n",
    "    X_shortcut = X\n",
    "\n",
    "    # If needed, adjust the number of filters in the shortcut path\n",
    "    if adjust_filters:\n",
    "        X_shortcut = Conv2D(filters=filters, kernel_size=(1,1), padding='same', kernel_regularizer=l2(weight_decay), kernel_initializer='he_uniform')(X_shortcut)\n",
    "        X_shortcut = BatchNormalization()(X_shortcut)  # It's a good practice to include BatchNormalization\n",
    "\n",
    "    # First component of the main path\n",
    "    X = Conv2D(filters=filters, kernel_size=kernel_size, padding='same', activation='elu',kernel_regularizer=l2(weight_decay), kernel_initializer='he_uniform')(X)\n",
    "    X = BatchNormalization()(X)\n",
    "    X = Dropout(dropout)(X)\n",
    "\n",
    "    # Second component of the main path\n",
    "    X = Conv2D(filters=filters, kernel_size=kernel_size, padding='same', kernel_regularizer=l2(weight_decay), kernel_initializer='he_uniform')(X)\n",
    "    X = BatchNormalization()(X)\n",
    "    X = Dropout(dropout)(X)\n",
    "    # Add shortcut value to main path, and pass it through a RELU activation\n",
    "    X = add([X, X_shortcut])\n",
    "    X = Activation('elu')(X)\n",
    "\n",
    "    return X\n",
    "\n",
    "early_stop = EarlyStopping(monitor='val_loss', # Value to monitor\n",
    "                           patience=7,         # How many epochs to wait after min has been hit\n",
    "                           verbose=1,          # Logging level\n",
    "                           mode='min',         # The direction is automatically inferred from the name of the monitored quantity\n",
    "                           restore_best_weights=True) # Whether to restore model weights from the epoch with the best value of the monitored quantity\n",
    "\n",
    "dropout = 0.5\n",
    "learning_rate = 0.0003\n",
    "weight_decay = 0.003\n",
    "epochs = 25\n",
    "\n",
    "input_shape = (250,1,22)\n",
    "\n",
    "# Define the input as a tensor with shape input_shape\n",
    "X_input = Input(input_shape)\n",
    "\n",
    "# Initial Convolution and MaxPooling\n",
    "X = Conv2D(filters=22, kernel_size=(4,1), padding='same', activation='elu', input_shape=input_shape, kernel_regularizer=l2(weight_decay), kernel_initializer='he_uniform')(X_input)\n",
    "X = MaxPooling2D(pool_size=(2,1), strides=(2,1), padding='same')(X)\n",
    "X = BatchNormalization()(X)\n",
    "X = Dropout(dropout)(X)\n",
    "\n",
    "# Incorporating Residual Blocks\n",
    "X = residual_block(X, 44, dropout, adjust_filters=True)\n",
    "X = MaxPooling2D(pool_size=(2,1), strides=(2,1), padding='same')(X)\n",
    "\n",
    "# X = residual_block(X, 96, dropout, adjust_filters=True)\n",
    "# X = MaxPooling2D(pool_size=(3,1), strides=(3,1), padding='same')(X)\n",
    "\n",
    "X = residual_block(X, 88, dropout, adjust_filters=True)\n",
    "X = MaxPooling2D(pool_size=(2,1), strides=(2,1), padding='same')(X)\n",
    "\n",
    "# X = residual_block(X, 160, dropout, adjust_filters=True)\n",
    "# X = MaxPooling2D(pool_size=(3,1), strides=(3,1), padding='same')(X)\n",
    "\n",
    "# X = residual_block(X, 192, dropout, adjust_filters=True)\n",
    "# X = MaxPooling2D(pool_size=(3,1), strides=(3,1), padding='same')(X)\n",
    "\n",
    "# X = residual_block(X, 224, dropout, adjust_filters=True)\n",
    "# X = MaxPooling2D(pool_size=(3,1), strides=(3,1), padding='same')(X)\n",
    "\n",
    "# X = residual_block(X, 256, dropout, adjust_filters=True)\n",
    "# X = MaxPooling2D(pool_size=(3,1), strides=(3,1), padding='same')(X)\n",
    "\n",
    "# Output layer\n",
    "X = Flatten()(X)\n",
    "# X = Dense(16, activation='elu', kernel_regularizer=l2(weight_decay), bias_regularizer=l2(weight_decay), kernel_initializer='glorot_uniform')(X)\n",
    "X = Dense(4, activation='softmax', kernel_regularizer=l2(weight_decay), bias_regularizer=l2(weight_decay), kernel_initializer='glorot_uniform')(X)\n",
    "\n",
    "# Create model\n",
    "model = Model(inputs=X_input, outputs=X, name='ResNetCNN')\n",
    "\n",
    "# Compile the model\n",
    "optimizer = Adam(lr=learning_rate)\n",
    "model.compile(loss='categorical_crossentropy', optimizer=optimizer, metrics=['accuracy'])\n",
    "results = model.fit(x_train_aug,\n",
    "                  y_train_aug,\n",
    "                  batch_size=32,\n",
    "                  epochs=epochs,\n",
    "                  validation_data=(x_valid_aug, y_valid_aug), callbacks=[early_stop], verbose=1)\n"
   ]
  },
  {
   "cell_type": "code",
   "execution_count": null,
   "id": "47e38d2d-a83f-4c64-b4d7-7b6753c3b9de",
   "metadata": {},
   "outputs": [],
   "source": [
    "score = model.evaluate(x_test_aug, y_test_aug, verbose=0)\n",
    "print(f'Test accuracy:{score[1]}')"
   ]
  },
  {
   "cell_type": "code",
   "execution_count": null,
   "id": "bcf42c56-7595-421f-b1e6-a36725b01459",
   "metadata": {},
   "outputs": [],
   "source": [
    "results = model.fit(x_train_aug,\n",
    "                  y_train_aug,\n",
    "                  batch_size=32,\n",
    "                  epochs=50,\n",
    "                  validation_data=(x_valid_aug, y_valid_aug), callbacks=[early_stop], verbose=1)\n",
    "score = model.evaluate(x_test_aug, y_test_aug, verbose=0)\n",
    "print(f'Test accuracy:{score[1]}')"
   ]
  },
  {
   "cell_type": "markdown",
   "id": "119271e1-5d1b-4465-9e03-dbc0ff0517b6",
   "metadata": {},
   "source": [
    "### Train with CWT data"
   ]
  },
  {
   "cell_type": "code",
   "execution_count": null,
   "id": "a86dd09a-3520-4063-840a-c62d115f120c",
   "metadata": {},
   "outputs": [],
   "source": [
    "from tensorflow.keras.models import Model\n",
    "from tensorflow.keras.layers import Input, Conv2D, MaxPooling2D, BatchNormalization, Dropout, Dense, Flatten, add, Activation\n",
    "from tensorflow.keras.initializers import glorot_uniform\n",
    "from tensorflow.keras.regularizers import l2\n",
    "from tensorflow.keras.optimizers import Adam\n",
    "\n",
    "def residual_block(X, filters, dropout, kernel_size=(4,1), adjust_filters=False):\n",
    "    X_shortcut = X\n",
    "\n",
    "    # If needed, adjust the number of filters in the shortcut path\n",
    "    if adjust_filters:\n",
    "        X_shortcut = Conv2D(filters=filters, kernel_size=(1,1), padding='same', kernel_regularizer=l2(weight_decay), kernel_initializer='he_uniform')(X_shortcut)\n",
    "        X_shortcut = BatchNormalization()(X_shortcut)  # It's a good practice to include BatchNormalization\n",
    "\n",
    "    # First component of the main path\n",
    "    X = Conv2D(filters=filters, kernel_size=kernel_size, padding='same', activation='elu',kernel_regularizer=l2(weight_decay), kernel_initializer='he_uniform')(X)\n",
    "    X = BatchNormalization()(X)\n",
    "    X = Dropout(dropout)(X)\n",
    "\n",
    "    # Second component of the main path\n",
    "    X = Conv2D(filters=filters, kernel_size=kernel_size, padding='same', kernel_regularizer=l2(weight_decay), kernel_initializer='he_uniform')(X)\n",
    "    X = BatchNormalization()(X)\n",
    "    X = Dropout(dropout)(X)\n",
    "    # Add shortcut value to main path, and pass it through a RELU activation\n",
    "    X = add([X, X_shortcut])\n",
    "    X = Activation('elu')(X)\n",
    "\n",
    "    return X\n",
    "\n",
    "early_stop = EarlyStopping(monitor='val_loss', # Value to monitor\n",
    "                           patience=7,         # How many epochs to wait after min has been hit\n",
    "                           verbose=1,          # Logging level\n",
    "                           mode='min',         # The direction is automatically inferred from the name of the monitored quantity\n",
    "                           restore_best_weights=True) # Whether to restore model weights from the epoch with the best value of the monitored quantity\n",
    "\n",
    "dropout = 0.5\n",
    "learning_rate = 0.0005\n",
    "weight_decay = 0.05\n",
    "epochs = 25\n",
    "\n",
    "input_shape = (250,6,22)\n",
    "\n",
    "# Define the input as a tensor with shape input_shape\n",
    "X_input = Input(input_shape)\n",
    "\n",
    "# Initial Convolution and MaxPooling\n",
    "X = Conv2D(filters=22, kernel_size=(4,1), padding='same', activation='elu', input_shape=input_shape, kernel_regularizer=l2(weight_decay), kernel_initializer='he_uniform')(X_input)\n",
    "X = MaxPooling2D(pool_size=(2,1), strides=(2,1), padding='same')(X)\n",
    "X = BatchNormalization()(X)\n",
    "X = Dropout(dropout)(X)\n",
    "\n",
    "# Incorporating Residual Blocks\n",
    "X = residual_block(X, 44, dropout, adjust_filters=True)\n",
    "X = MaxPooling2D(pool_size=(2,1), strides=(2,1), padding='same')(X)\n",
    "\n",
    "# Output layer\n",
    "X = Flatten()(X)\n",
    "# X = Dense(100, activation='elu', kernel_regularizer=l2(weight_decay), bias_regularizer=l2(weight_decay), kernel_initializer='glorot_uniform')(X)\n",
    "X = Dense(4, activation='softmax', kernel_regularizer=l2(weight_decay), bias_regularizer=l2(weight_decay), kernel_initializer='glorot_uniform')(X)\n",
    "\n",
    "# Create model\n",
    "model = Model(inputs=X_input, outputs=X, name='ResNetCNN')\n",
    "\n",
    "# Compile the model\n",
    "optimizer = Adam(lr=learning_rate)\n",
    "model.compile(loss='categorical_crossentropy', optimizer=optimizer, metrics=['accuracy'])\n",
    "results = model.fit(x_train_cwt,\n",
    "                  y_train_cwt,\n",
    "                  batch_size=32,\n",
    "                  epochs=epochs,\n",
    "                  validation_data=(x_valid_cwt, y_valid_cwt), callbacks=[early_stop], verbose=1)\n"
   ]
  },
  {
   "cell_type": "code",
   "execution_count": null,
   "id": "350b21aa-d867-4431-9c4c-84f57f5cb679",
   "metadata": {},
   "outputs": [],
   "source": [
    "score = model.evaluate(x_test_cwt, y_test_cwt, verbose=0)\n",
    "print(f'Test accuracy:{score[1]}')"
   ]
  },
  {
   "cell_type": "code",
   "execution_count": null,
   "id": "f420724d-3999-4b70-a1b0-6ff750513a8e",
   "metadata": {},
   "outputs": [],
   "source": [
    "results = model.fit(x_train_cwt,\n",
    "                  y_train_cwt,\n",
    "                  batch_size=32,\n",
    "                  epochs=epochs,\n",
    "                  validation_data=(x_valid_cwt, y_valid_cwt), callbacks=[early_stop], verbose=1)\n",
    "score = model.evaluate(x_test_cwt, y_test_cwt, verbose=0)\n",
    "print(f'Test accuracy:{score[1]}')"
   ]
  }
 ],
 "metadata": {
  "kernelspec": {
   "display_name": "Python 3 (ipykernel)",
   "language": "python",
   "name": "python3"
  },
  "language_info": {
   "codemirror_mode": {
    "name": "ipython",
    "version": 3
   },
   "file_extension": ".py",
   "mimetype": "text/x-python",
   "name": "python",
   "nbconvert_exporter": "python",
   "pygments_lexer": "ipython3",
   "version": "3.8.18"
  }
 },
 "nbformat": 4,
 "nbformat_minor": 5
}
