{
 "cells": [
  {
   "cell_type": "code",
   "execution_count": 1,
   "metadata": {},
   "outputs": [],
   "source": [
    "from deepCNN import deepCNN\n",
    "from utils import *\n",
    "from tqdm import tqdm\n",
    "import torch\n",
    "import torch.nn as nn\n",
    "from torch.utils.data import DataLoader, TensorDataset\n"
   ]
  },
  {
   "cell_type": "code",
   "execution_count": 2,
   "metadata": {},
   "outputs": [
    {
     "name": "stdout",
     "output_type": "stream",
     "text": [
      "deepCNN(\n",
      "  (ConvLayer1): Sequential(\n",
      "    (0): Conv2d(1, 25, kernel_size=(1, 10), stride=(1, 1))\n",
      "    (1): ELU(alpha=1.0)\n",
      "    (2): Conv2d(25, 25, kernel_size=(22, 1), stride=(1, 1))\n",
      "    (3): ELU(alpha=1.0)\n",
      "    (4): MaxPool2d(kernel_size=(1, 3), stride=(1, 3), padding=0, dilation=1, ceil_mode=False)\n",
      "  )\n",
      "  (elu): ELU(alpha=1.0)\n",
      "  (maxpool): MaxPool2d(kernel_size=(1, 3), stride=(1, 3), padding=0, dilation=1, ceil_mode=False)\n",
      "  (conv2): Conv2d(25, 50, kernel_size=(1, 10), stride=(1, 1))\n",
      "  (conv3): Conv2d(50, 100, kernel_size=(1, 10), stride=(1, 1))\n",
      "  (conv4): Conv2d(100, 200, kernel_size=(1, 10), stride=(1, 1))\n",
      ")\n"
     ]
    }
   ],
   "source": [
    "model = deepCNN()\n",
    "print(model)"
   ]
  },
  {
   "cell_type": "code",
   "execution_count": 3,
   "metadata": {
    "collapsed": false,
    "jupyter": {
     "outputs_hidden": false
    },
    "pycharm": {
     "name": "#%%\n"
    }
   },
   "outputs": [
    {
     "name": "stdout",
     "output_type": "stream",
     "text": [
      "<torch.utils.data.dataloader.DataLoader object at 0x0000024217D73760>\n"
     ]
    }
   ],
   "source": [
    "X_train, y_train, X_test, y_test = init_data(subject=None, verbose=True)\n",
    "\n",
    "train_loader, val_loader = load_data(X_train, y_train, X_test, y_test, verbose=True)\n",
    "\n",
    "\n",
    "\n",
    "print(train_loader)"
   ]
  },
  {
   "cell_type": "code",
   "execution_count": 4,
   "metadata": {},
   "outputs": [],
   "source": [
    "criterion = nn.CrossEntropyLoss() \n",
    "optimizer = torch.optim.Adam(model.parameters(), lr=0.001)"
   ]
  },
  {
   "cell_type": "code",
   "execution_count": 5,
   "metadata": {},
   "outputs": [
    {
     "name": "stdout",
     "output_type": "stream",
     "text": [
      "Epoch 1, Loss: 1.355289101600647\n",
      "Epoch 2, Loss: 1.292640263179563\n",
      "Epoch 3, Loss: 1.2463542222976685\n",
      "Epoch 4, Loss: 1.2037606869103774\n",
      "Epoch 5, Loss: 1.1632550392510757\n",
      "Epoch 6, Loss: 1.1469442776913912\n",
      "Epoch 7, Loss: 1.0861228198375341\n",
      "Epoch 8, Loss: 1.0382894435018863\n",
      "Epoch 9, Loss: 1.0122584858030643\n",
      "Epoch 10, Loss: 0.9700826878817577\n"
     ]
    }
   ],
   "source": [
    "num_epochs = 10  # Number of epochs to train for\n",
    "\n",
    "for epoch in range(num_epochs):\n",
    "    model.train()  # Set the model to training mode\n",
    "    running_loss = 0.0\n",
    "\n",
    "    for i, (inputs, labels) in enumerate(train_loader):\n",
    "        optimizer.zero_grad()  # Zero the parameter gradients\n",
    "        \n",
    "        # Forward pass\n",
    "        outputs = model(inputs)\n",
    "        loss = criterion(outputs, labels)\n",
    "        \n",
    "        # Backward and optimize\n",
    "        loss.backward()\n",
    "        optimizer.step()\n",
    "        \n",
    "        running_loss += loss.item()\n",
    "\n",
    "    print(f'Epoch {epoch+1}, Loss: {running_loss/len(train_loader)}')"
   ]
  },
  {
   "cell_type": "code",
   "execution_count": null,
   "metadata": {},
   "outputs": [],
   "source": []
  }
 ],
 "metadata": {
  "kernelspec": {
   "display_name": "Python 3 (ipykernel)",
   "language": "python",
   "name": "python3"
  },
  "language_info": {
   "codemirror_mode": {
    "name": "ipython",
    "version": 3
   },
   "file_extension": ".py",
   "mimetype": "text/x-python",
   "name": "python",
   "nbconvert_exporter": "python",
   "pygments_lexer": "ipython3",
   "version": "3.8.0"
  }
 },
 "nbformat": 4,
 "nbformat_minor": 4
}
