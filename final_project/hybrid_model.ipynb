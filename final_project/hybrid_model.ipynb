{
 "cells": [
  {
   "cell_type": "markdown",
   "metadata": {},
   "source": [
    "Import packages"
   ]
  },
  {
   "cell_type": "code",
   "execution_count": 1,
   "metadata": {},
   "outputs": [],
   "source": [
    "from utils import *\n",
    "import matplotlib.pyplot as plt\n",
    "import tensorflow as tf\n",
    "from tensorflow.keras.models import Sequential\n",
    "from tensorflow.keras.layers import Dense, Dropout, Activation, Flatten, Conv2D, BatchNormalization, MaxPooling2D, Reshape, LSTM, TimeDistributed, Permute\n",
    "from tensorflow.keras.regularizers import l2\n",
    "from tensorflow.keras.utils import to_categorical\n",
    "from tensorflow.keras.losses import CategoricalCrossentropy\n",
    "import datetime"
   ]
  },
  {
   "cell_type": "markdown",
   "metadata": {},
   "source": [
    "Load dataset"
   ]
  },
  {
   "cell_type": "code",
   "execution_count": 2,
   "metadata": {},
   "outputs": [
    {
     "name": "stdout",
     "output_type": "stream",
     "text": [
      "Training data shape: (7616, 22, 250) Training target shape: (7616,)\n",
      "Testing data shape: (443, 22, 250) Testing target shape: (443,)\n",
      "Training data shape: (7616, 250, 1, 22) Training target shape: (7616, 4)\n",
      "Validation data shape: (844, 250, 1, 22) Validation target shape: (844, 4)\n",
      "Testing data shape: (443, 250, 1, 22) Testing target shape: (443, 4)\n"
     ]
    }
   ],
   "source": [
    "X_train, y_train, X_test, y_test = init_data(subject=None, verbose=True)\n",
    "X_train_aug, y_train_aug, X_test_aug, y_test_aug, X_valid_aug, y_valid_aug= preprocess_data(X_train, y_train, X_test, y_test, verbose=True)\n",
    "x_train_aug, y_train_aug, x_valid_aug, y_valid_aug, x_test_aug, y_test_aug = load_data(X_train_aug, y_train_aug, X_valid_aug, y_valid_aug, X_test_aug, y_test_aug, verbose=True)"
   ]
  },
  {
   "cell_type": "markdown",
   "metadata": {},
   "source": [
    "Initial model structure"
   ]
  },
  {
   "cell_type": "code",
   "execution_count": 18,
   "metadata": {},
   "outputs": [
    {
     "name": "stdout",
     "output_type": "stream",
     "text": [
      "Model: \"sequential_1\"\n",
      "_________________________________________________________________\n",
      " Layer (type)                Output Shape              Param #   \n",
      "=================================================================\n",
      " conv2d_3 (Conv2D)           (None, 250, 1, 25)        8275      \n",
      "                                                                 \n",
      " max_pooling2d_3 (MaxPooling  (None, 84, 1, 25)        0         \n",
      " 2D)                                                             \n",
      "                                                                 \n",
      " batch_normalization_3 (Batc  (None, 84, 1, 25)        100       \n",
      " hNormalization)                                                 \n",
      "                                                                 \n",
      " dropout_3 (Dropout)         (None, 84, 1, 25)         0         \n",
      "                                                                 \n",
      " conv2d_4 (Conv2D)           (None, 84, 1, 50)         18800     \n",
      "                                                                 \n",
      " max_pooling2d_4 (MaxPooling  (None, 28, 1, 50)        0         \n",
      " 2D)                                                             \n",
      "                                                                 \n",
      " batch_normalization_4 (Batc  (None, 28, 1, 50)        200       \n",
      " hNormalization)                                                 \n",
      "                                                                 \n",
      " dropout_4 (Dropout)         (None, 28, 1, 50)         0         \n",
      "                                                                 \n",
      " conv2d_5 (Conv2D)           (None, 28, 1, 100)        75100     \n",
      "                                                                 \n",
      " max_pooling2d_5 (MaxPooling  (None, 10, 1, 100)       0         \n",
      " 2D)                                                             \n",
      "                                                                 \n",
      " batch_normalization_5 (Batc  (None, 10, 1, 100)       400       \n",
      " hNormalization)                                                 \n",
      "                                                                 \n",
      " dropout_5 (Dropout)         (None, 10, 1, 100)        0         \n",
      "                                                                 \n",
      " flatten_1 (Flatten)         (None, 1000)              0         \n",
      "                                                                 \n",
      " dense_2 (Dense)             (None, 40)                40040     \n",
      "                                                                 \n",
      " reshape_1 (Reshape)         (None, 40, 1)             0         \n",
      "                                                                 \n",
      " lstm_1 (LSTM)               (None, 10)                480       \n",
      "                                                                 \n",
      " dense_3 (Dense)             (None, 4)                 44        \n",
      "                                                                 \n",
      "=================================================================\n",
      "Total params: 143,439\n",
      "Trainable params: 143,089\n",
      "Non-trainable params: 350\n",
      "_________________________________________________________________\n"
     ]
    }
   ],
   "source": [
    "# Building the CNN model using sequential class\n",
    "hybrid_cnn_lstm_model = Sequential()\n",
    "\n",
    "# Conv. block 1\n",
    "hybrid_cnn_lstm_model.add(Conv2D(filters=25, kernel_size=(15,1), padding='same', activation='elu', input_shape=(250,1,22)))\n",
    "hybrid_cnn_lstm_model.add(MaxPooling2D(pool_size=(3,1), strides=(3,1), padding='same')) # Read the keras documentation\n",
    "hybrid_cnn_lstm_model.add(BatchNormalization())\n",
    "hybrid_cnn_lstm_model.add(Dropout(0.6))\n",
    "\n",
    "# Conv. block 2\n",
    "hybrid_cnn_lstm_model.add(Conv2D(filters=50, kernel_size=(15,1), padding='same', activation='elu'))\n",
    "hybrid_cnn_lstm_model.add(MaxPooling2D(pool_size=(3,1), strides=(3,1), padding='same'))\n",
    "hybrid_cnn_lstm_model.add(BatchNormalization())\n",
    "hybrid_cnn_lstm_model.add(Dropout(0.6))\n",
    "\n",
    "# Conv. block 3\n",
    "hybrid_cnn_lstm_model.add(Conv2D(filters=100, kernel_size=(15,1), padding='same', activation='elu'))\n",
    "hybrid_cnn_lstm_model.add(MaxPooling2D(pool_size=(3,1), strides=(3,1), padding='same'))\n",
    "hybrid_cnn_lstm_model.add(BatchNormalization())\n",
    "hybrid_cnn_lstm_model.add(Dropout(0.6))\n",
    "\n",
    "# # Conv. block 4\n",
    "# hybrid_cnn_lstm_model.add(Conv2D(filters=200, kernel_size=(15,1), padding='same', activation='elu'))\n",
    "# hybrid_cnn_lstm_model.add(MaxPooling2D(pool_size=(3,1), strides=(3,1), padding='same'))\n",
    "# hybrid_cnn_lstm_model.add(BatchNormalization())\n",
    "# hybrid_cnn_lstm_model.add(Dropout(0.5))\n",
    "\n",
    "# FC+LSTM layers\n",
    "hybrid_cnn_lstm_model.add(Flatten()) # Adding a flattening operation to the output of CNN block\n",
    "hybrid_cnn_lstm_model.add(Dense((40))) # FC layer with 100 units\n",
    "hybrid_cnn_lstm_model.add(Reshape((40,1))) # Reshape my output of FC layer so that it's compatible\n",
    "# hybrid_cnn_lstm_model.add(LSTM(10, dropout=0.5, recurrent_dropout=0.1, return_sequences=True))\n",
    "\n",
    "hybrid_cnn_lstm_model.add(LSTM(10, dropout=0.5, recurrent_dropout=0.1))\n",
    "# Output layer with Softmax activation \n",
    "hybrid_cnn_lstm_model.add(Dense(4, activation='softmax')) # Output FC layer with softmax activation\n",
    "\n",
    "\n",
    "# Printing the model summary\n",
    "hybrid_cnn_lstm_model.summary()\n",
    "\n",
    "\n",
    "\n"
   ]
  },
  {
   "cell_type": "code",
   "execution_count": 19,
   "metadata": {},
   "outputs": [
    {
     "name": "stdout",
     "output_type": "stream",
     "text": [
      "The tensorboard extension is already loaded. To reload it, use:\n",
      "  %reload_ext tensorboard\n"
     ]
    }
   ],
   "source": [
    "%load_ext tensorboard"
   ]
  },
  {
   "cell_type": "code",
   "execution_count": 20,
   "metadata": {},
   "outputs": [],
   "source": [
    "!rm -rf ./logs/"
   ]
  },
  {
   "cell_type": "code",
   "execution_count": 21,
   "metadata": {},
   "outputs": [
    {
     "data": {
      "text/plain": [
       "Reusing TensorBoard on port 6006 (pid 29493), started 6:07:16 ago. (Use '!kill 29493' to kill it.)"
      ]
     },
     "metadata": {},
     "output_type": "display_data"
    },
    {
     "data": {
      "text/html": [
       "\n",
       "      <iframe id=\"tensorboard-frame-9157afbb6b99b7ac\" width=\"100%\" height=\"800\" frameborder=\"0\">\n",
       "      </iframe>\n",
       "      <script>\n",
       "        (function() {\n",
       "          const frame = document.getElementById(\"tensorboard-frame-9157afbb6b99b7ac\");\n",
       "          const url = new URL(\"http://localhost\");\n",
       "          const port = 6006;\n",
       "          if (port) {\n",
       "            url.port = port;\n",
       "          }\n",
       "          frame.src = url;\n",
       "        })();\n",
       "      </script>\n",
       "    "
      ],
      "text/plain": [
       "<IPython.core.display.HTML object>"
      ]
     },
     "metadata": {},
     "output_type": "display_data"
    }
   ],
   "source": [
    "%tensorboard --logdir logs"
   ]
  },
  {
   "cell_type": "code",
   "execution_count": 22,
   "metadata": {},
   "outputs": [],
   "source": [
    "# !kill 33800"
   ]
  },
  {
   "cell_type": "code",
   "execution_count": 23,
   "metadata": {},
   "outputs": [],
   "source": [
    "# Model parameters\n",
    "learning_rate = 0.001\n",
    "epochs = 90\n",
    "hybrid_cnn_lstm_optimizer = tf.keras.optimizers.Adam(learning_rate=learning_rate,weight_decay=1e-5)\n",
    "\n",
    "# create a tensorboard callback to visualize training\n",
    "tb_callback = tf.keras.callbacks.TensorBoard(log_dir=\"logs/fit/\" + datetime.datetime.now().strftime(\"%Y%m%d-%H%M%S\"), histogram_freq=1)\n",
    "\n",
    "# anneals the learning rate\n",
    "lr_callback = tf.keras.callbacks.ReduceLROnPlateau(patience = 10, factor = 0.1)  # reduces by a factor of 10 if validation loss doesn't improve for 10 epochs\n",
    "\n",
    "\n",
    "# early stopping callback\n",
    "early_stopping_cb = tf.keras.callbacks.EarlyStopping(patience=20, restore_best_weights=True)\n",
    "\n",
    "# checkpoint saving callback\n",
    "save_cb = tf.keras.callbacks.ModelCheckpoint(\n",
    "    'models/checkpoint_{epoch:02d}_{val_loss:0.2f}',   # where to save models\n",
    "    monitor= 'val_loss',\n",
    "    verbose = 0,\n",
    "    save_best_only = False,\n",
    "    save_weights_only = False,\n",
    "    save_freq='epoch'   # saves every epoch\n",
    ")"
   ]
  },
  {
   "cell_type": "markdown",
   "metadata": {},
   "source": [
    "Compile and train the model"
   ]
  },
  {
   "cell_type": "code",
   "execution_count": 24,
   "metadata": {},
   "outputs": [
    {
     "name": "stdout",
     "output_type": "stream",
     "text": [
      "Epoch 1/90\n",
      "119/119 [==============================] - 6s 41ms/step - loss: 1.3635 - accuracy: 0.2969 - val_loss: 1.3269 - val_accuracy: 0.3187\n",
      "Epoch 2/90\n",
      "119/119 [==============================] - 4s 33ms/step - loss: 1.3038 - accuracy: 0.3566 - val_loss: 1.2901 - val_accuracy: 0.3863\n",
      "Epoch 3/90\n",
      "119/119 [==============================] - 4s 35ms/step - loss: 1.2628 - accuracy: 0.3890 - val_loss: 1.2650 - val_accuracy: 0.4206\n",
      "Epoch 4/90\n",
      "119/119 [==============================] - 4s 34ms/step - loss: 1.2273 - accuracy: 0.4256 - val_loss: 1.2630 - val_accuracy: 0.4017\n",
      "Epoch 5/90\n",
      "119/119 [==============================] - 4s 32ms/step - loss: 1.2025 - accuracy: 0.4361 - val_loss: 1.2565 - val_accuracy: 0.4182\n",
      "Epoch 6/90\n",
      "119/119 [==============================] - 4s 31ms/step - loss: 1.1770 - accuracy: 0.4630 - val_loss: 1.2200 - val_accuracy: 0.4147\n",
      "Epoch 7/90\n",
      "119/119 [==============================] - 4s 31ms/step - loss: 1.1541 - accuracy: 0.4783 - val_loss: 1.2096 - val_accuracy: 0.4135\n",
      "Epoch 8/90\n",
      "119/119 [==============================] - 4s 31ms/step - loss: 1.1328 - accuracy: 0.4959 - val_loss: 1.1765 - val_accuracy: 0.4763\n",
      "Epoch 9/90\n",
      "119/119 [==============================] - 4s 31ms/step - loss: 1.1129 - accuracy: 0.5064 - val_loss: 1.2238 - val_accuracy: 0.4455\n",
      "Epoch 10/90\n",
      "119/119 [==============================] - 4s 31ms/step - loss: 1.0895 - accuracy: 0.5130 - val_loss: 1.1910 - val_accuracy: 0.4739\n",
      "Epoch 11/90\n",
      "119/119 [==============================] - 4s 31ms/step - loss: 1.0818 - accuracy: 0.5172 - val_loss: 1.1983 - val_accuracy: 0.4372\n",
      "Epoch 12/90\n",
      "119/119 [==============================] - 4s 30ms/step - loss: 1.0501 - accuracy: 0.5450 - val_loss: 1.1717 - val_accuracy: 0.4668\n",
      "Epoch 13/90\n",
      "119/119 [==============================] - 4s 32ms/step - loss: 1.0455 - accuracy: 0.5442 - val_loss: 1.2061 - val_accuracy: 0.4455\n",
      "Epoch 14/90\n",
      "119/119 [==============================] - 4s 32ms/step - loss: 1.0292 - accuracy: 0.5603 - val_loss: 1.1635 - val_accuracy: 0.4727\n",
      "Epoch 15/90\n",
      "119/119 [==============================] - 4s 31ms/step - loss: 0.9934 - accuracy: 0.5809 - val_loss: 1.1225 - val_accuracy: 0.4668\n",
      "Epoch 16/90\n",
      "119/119 [==============================] - 4s 31ms/step - loss: 0.9807 - accuracy: 0.5902 - val_loss: 1.1408 - val_accuracy: 0.5166\n",
      "Epoch 17/90\n",
      "119/119 [==============================] - 4s 32ms/step - loss: 0.9618 - accuracy: 0.6075 - val_loss: 1.0976 - val_accuracy: 0.5071\n",
      "Epoch 18/90\n",
      "119/119 [==============================] - 4s 32ms/step - loss: 0.9566 - accuracy: 0.6082 - val_loss: 1.0753 - val_accuracy: 0.5545\n",
      "Epoch 19/90\n",
      "119/119 [==============================] - 4s 31ms/step - loss: 0.9224 - accuracy: 0.6309 - val_loss: 1.0544 - val_accuracy: 0.5675\n",
      "Epoch 20/90\n",
      "119/119 [==============================] - 4s 31ms/step - loss: 0.8972 - accuracy: 0.6415 - val_loss: 1.0849 - val_accuracy: 0.5664\n",
      "Epoch 21/90\n",
      "119/119 [==============================] - 4s 31ms/step - loss: 0.8812 - accuracy: 0.6498 - val_loss: 1.0621 - val_accuracy: 0.5841\n",
      "Epoch 22/90\n",
      "119/119 [==============================] - 4s 31ms/step - loss: 0.8464 - accuracy: 0.6750 - val_loss: 1.0575 - val_accuracy: 0.5533\n",
      "Epoch 23/90\n",
      "119/119 [==============================] - 4s 31ms/step - loss: 0.8498 - accuracy: 0.6654 - val_loss: 1.0477 - val_accuracy: 0.5723\n",
      "Epoch 24/90\n",
      "119/119 [==============================] - 4s 32ms/step - loss: 0.8164 - accuracy: 0.6832 - val_loss: 0.9684 - val_accuracy: 0.6303\n",
      "Epoch 25/90\n",
      "119/119 [==============================] - 4s 32ms/step - loss: 0.7892 - accuracy: 0.6997 - val_loss: 0.9522 - val_accuracy: 0.6386\n",
      "Epoch 26/90\n",
      "119/119 [==============================] - 4s 32ms/step - loss: 0.7834 - accuracy: 0.7023 - val_loss: 0.8853 - val_accuracy: 0.6623\n",
      "Epoch 27/90\n",
      "119/119 [==============================] - 4s 31ms/step - loss: 0.7601 - accuracy: 0.7131 - val_loss: 0.9419 - val_accuracy: 0.6434\n",
      "Epoch 28/90\n",
      "119/119 [==============================] - 4s 31ms/step - loss: 0.7544 - accuracy: 0.7148 - val_loss: 0.9321 - val_accuracy: 0.6398\n",
      "Epoch 29/90\n",
      "119/119 [==============================] - 4s 31ms/step - loss: 0.7374 - accuracy: 0.7207 - val_loss: 0.8429 - val_accuracy: 0.6825\n",
      "Epoch 30/90\n",
      "119/119 [==============================] - 4s 32ms/step - loss: 0.7257 - accuracy: 0.7228 - val_loss: 0.9115 - val_accuracy: 0.6280\n",
      "Epoch 31/90\n",
      "119/119 [==============================] - 4s 31ms/step - loss: 0.7003 - accuracy: 0.7358 - val_loss: 0.8481 - val_accuracy: 0.6659\n",
      "Epoch 32/90\n",
      "119/119 [==============================] - 4s 31ms/step - loss: 0.6988 - accuracy: 0.7356 - val_loss: 0.8387 - val_accuracy: 0.6848\n",
      "Epoch 33/90\n",
      "119/119 [==============================] - 4s 31ms/step - loss: 0.6870 - accuracy: 0.7409 - val_loss: 0.8150 - val_accuracy: 0.7002\n",
      "Epoch 34/90\n",
      "119/119 [==============================] - 4s 31ms/step - loss: 0.6769 - accuracy: 0.7415 - val_loss: 0.8291 - val_accuracy: 0.6884\n",
      "Epoch 35/90\n",
      "119/119 [==============================] - 4s 31ms/step - loss: 0.6679 - accuracy: 0.7505 - val_loss: 0.8338 - val_accuracy: 0.6896\n",
      "Epoch 36/90\n",
      "119/119 [==============================] - 4s 32ms/step - loss: 0.6581 - accuracy: 0.7484 - val_loss: 0.8078 - val_accuracy: 0.7121\n",
      "Epoch 37/90\n",
      "119/119 [==============================] - 4s 31ms/step - loss: 0.6407 - accuracy: 0.7665 - val_loss: 0.8910 - val_accuracy: 0.6671\n",
      "Epoch 38/90\n",
      "119/119 [==============================] - 4s 31ms/step - loss: 0.6412 - accuracy: 0.7617 - val_loss: 0.8271 - val_accuracy: 0.7050\n",
      "Epoch 39/90\n",
      "119/119 [==============================] - 4s 32ms/step - loss: 0.6431 - accuracy: 0.7566 - val_loss: 0.8480 - val_accuracy: 0.6991\n",
      "Epoch 40/90\n",
      "119/119 [==============================] - 4s 31ms/step - loss: 0.6334 - accuracy: 0.7617 - val_loss: 0.8403 - val_accuracy: 0.6848\n",
      "Epoch 41/90\n",
      "119/119 [==============================] - 4s 32ms/step - loss: 0.6282 - accuracy: 0.7664 - val_loss: 0.8102 - val_accuracy: 0.7026\n",
      "Epoch 42/90\n",
      "119/119 [==============================] - 4s 31ms/step - loss: 0.6105 - accuracy: 0.7749 - val_loss: 0.8726 - val_accuracy: 0.6777\n",
      "Epoch 43/90\n",
      "119/119 [==============================] - 4s 32ms/step - loss: 0.6036 - accuracy: 0.7747 - val_loss: 0.7622 - val_accuracy: 0.7322\n",
      "Epoch 44/90\n",
      "119/119 [==============================] - 4s 32ms/step - loss: 0.5946 - accuracy: 0.7790 - val_loss: 0.7775 - val_accuracy: 0.7216\n",
      "Epoch 45/90\n",
      "119/119 [==============================] - 4s 32ms/step - loss: 0.5834 - accuracy: 0.7849 - val_loss: 0.8084 - val_accuracy: 0.7002\n",
      "Epoch 46/90\n",
      "119/119 [==============================] - 4s 32ms/step - loss: 0.5803 - accuracy: 0.7841 - val_loss: 0.7971 - val_accuracy: 0.7121\n",
      "Epoch 47/90\n",
      "119/119 [==============================] - 4s 31ms/step - loss: 0.5744 - accuracy: 0.7840 - val_loss: 0.8431 - val_accuracy: 0.6718\n",
      "Epoch 48/90\n",
      "119/119 [==============================] - 4s 32ms/step - loss: 0.5822 - accuracy: 0.7786 - val_loss: 0.7835 - val_accuracy: 0.7050\n",
      "Epoch 49/90\n",
      "119/119 [==============================] - 4s 32ms/step - loss: 0.5756 - accuracy: 0.7827 - val_loss: 0.8308 - val_accuracy: 0.6979\n",
      "Epoch 50/90\n",
      "119/119 [==============================] - 4s 32ms/step - loss: 0.5665 - accuracy: 0.7844 - val_loss: 0.7540 - val_accuracy: 0.7133\n",
      "Epoch 51/90\n",
      "119/119 [==============================] - 4s 32ms/step - loss: 0.5654 - accuracy: 0.7911 - val_loss: 0.7420 - val_accuracy: 0.7204\n",
      "Epoch 52/90\n",
      "119/119 [==============================] - 4s 32ms/step - loss: 0.5548 - accuracy: 0.7925 - val_loss: 0.8399 - val_accuracy: 0.6682\n",
      "Epoch 53/90\n",
      "119/119 [==============================] - 4s 31ms/step - loss: 0.5568 - accuracy: 0.7911 - val_loss: 0.7473 - val_accuracy: 0.7275\n",
      "Epoch 54/90\n",
      "119/119 [==============================] - 4s 32ms/step - loss: 0.5449 - accuracy: 0.7912 - val_loss: 0.8178 - val_accuracy: 0.6896\n",
      "Epoch 55/90\n",
      "119/119 [==============================] - 4s 32ms/step - loss: 0.5414 - accuracy: 0.7996 - val_loss: 0.7439 - val_accuracy: 0.7287\n",
      "Epoch 56/90\n",
      "119/119 [==============================] - 4s 32ms/step - loss: 0.5320 - accuracy: 0.8069 - val_loss: 0.7878 - val_accuracy: 0.6955\n",
      "Epoch 57/90\n",
      "119/119 [==============================] - 4s 33ms/step - loss: 0.5331 - accuracy: 0.8030 - val_loss: 0.7811 - val_accuracy: 0.7239\n",
      "Epoch 58/90\n",
      "119/119 [==============================] - 4s 32ms/step - loss: 0.5313 - accuracy: 0.8003 - val_loss: 0.7644 - val_accuracy: 0.7133\n",
      "Epoch 59/90\n",
      "119/119 [==============================] - 4s 32ms/step - loss: 0.5072 - accuracy: 0.8116 - val_loss: 0.7733 - val_accuracy: 0.7073\n",
      "Epoch 60/90\n",
      "119/119 [==============================] - 4s 32ms/step - loss: 0.5215 - accuracy: 0.8086 - val_loss: 0.7884 - val_accuracy: 0.6896\n",
      "Epoch 61/90\n",
      "119/119 [==============================] - 4s 33ms/step - loss: 0.5020 - accuracy: 0.8134 - val_loss: 0.7828 - val_accuracy: 0.7085\n",
      "Epoch 62/90\n",
      "119/119 [==============================] - 4s 32ms/step - loss: 0.5140 - accuracy: 0.8107 - val_loss: 0.7889 - val_accuracy: 0.6991\n",
      "Epoch 63/90\n",
      "119/119 [==============================] - 4s 32ms/step - loss: 0.5094 - accuracy: 0.8107 - val_loss: 0.7645 - val_accuracy: 0.7168\n",
      "Epoch 64/90\n",
      "119/119 [==============================] - 4s 32ms/step - loss: 0.4956 - accuracy: 0.8150 - val_loss: 0.7296 - val_accuracy: 0.7358\n",
      "Epoch 65/90\n",
      "119/119 [==============================] - 4s 32ms/step - loss: 0.4908 - accuracy: 0.8185 - val_loss: 0.7299 - val_accuracy: 0.7322\n",
      "Epoch 66/90\n",
      "119/119 [==============================] - 4s 32ms/step - loss: 0.5008 - accuracy: 0.8138 - val_loss: 0.7508 - val_accuracy: 0.7085\n",
      "Epoch 67/90\n",
      "119/119 [==============================] - 4s 32ms/step - loss: 0.4888 - accuracy: 0.8174 - val_loss: 0.7913 - val_accuracy: 0.7026\n",
      "Epoch 68/90\n",
      "119/119 [==============================] - 4s 32ms/step - loss: 0.4761 - accuracy: 0.8180 - val_loss: 0.7650 - val_accuracy: 0.7239\n",
      "Epoch 69/90\n",
      "119/119 [==============================] - 4s 32ms/step - loss: 0.4917 - accuracy: 0.8160 - val_loss: 0.7306 - val_accuracy: 0.7180\n",
      "Epoch 70/90\n",
      "119/119 [==============================] - 4s 32ms/step - loss: 0.4884 - accuracy: 0.8174 - val_loss: 0.7351 - val_accuracy: 0.7251\n",
      "Epoch 71/90\n",
      "119/119 [==============================] - 4s 32ms/step - loss: 0.4665 - accuracy: 0.8267 - val_loss: 0.7913 - val_accuracy: 0.7121\n",
      "Epoch 72/90\n",
      "119/119 [==============================] - 4s 33ms/step - loss: 0.4694 - accuracy: 0.8229 - val_loss: 0.7441 - val_accuracy: 0.7441\n",
      "Epoch 73/90\n",
      "119/119 [==============================] - 4s 32ms/step - loss: 0.4804 - accuracy: 0.8179 - val_loss: 0.8149 - val_accuracy: 0.6991\n",
      "Epoch 74/90\n",
      "119/119 [==============================] - 4s 31ms/step - loss: 0.4699 - accuracy: 0.8273 - val_loss: 0.8149 - val_accuracy: 0.6955\n",
      "Epoch 75/90\n",
      "119/119 [==============================] - 4s 32ms/step - loss: 0.4644 - accuracy: 0.8305 - val_loss: 0.7519 - val_accuracy: 0.7263\n",
      "Epoch 76/90\n",
      "119/119 [==============================] - 4s 32ms/step - loss: 0.4526 - accuracy: 0.8293 - val_loss: 0.7619 - val_accuracy: 0.7145\n",
      "Epoch 77/90\n",
      "119/119 [==============================] - 4s 32ms/step - loss: 0.4620 - accuracy: 0.8293 - val_loss: 0.7063 - val_accuracy: 0.7382\n",
      "Epoch 78/90\n",
      "119/119 [==============================] - 4s 33ms/step - loss: 0.4500 - accuracy: 0.8344 - val_loss: 0.7974 - val_accuracy: 0.7026\n",
      "Epoch 79/90\n",
      "119/119 [==============================] - 4s 32ms/step - loss: 0.4491 - accuracy: 0.8301 - val_loss: 0.7998 - val_accuracy: 0.7002\n",
      "Epoch 80/90\n",
      "119/119 [==============================] - 4s 32ms/step - loss: 0.4585 - accuracy: 0.8353 - val_loss: 0.7330 - val_accuracy: 0.7287\n",
      "Epoch 81/90\n",
      "119/119 [==============================] - 4s 33ms/step - loss: 0.4464 - accuracy: 0.8336 - val_loss: 0.7417 - val_accuracy: 0.7382\n",
      "Epoch 82/90\n",
      "119/119 [==============================] - 4s 33ms/step - loss: 0.4500 - accuracy: 0.8298 - val_loss: 0.7543 - val_accuracy: 0.7417\n",
      "Epoch 83/90\n",
      "119/119 [==============================] - 4s 32ms/step - loss: 0.4580 - accuracy: 0.8308 - val_loss: 0.7227 - val_accuracy: 0.7216\n",
      "Epoch 84/90\n",
      "119/119 [==============================] - 4s 32ms/step - loss: 0.4467 - accuracy: 0.8376 - val_loss: 0.7763 - val_accuracy: 0.7180\n",
      "Epoch 85/90\n",
      "119/119 [==============================] - 4s 32ms/step - loss: 0.4435 - accuracy: 0.8334 - val_loss: 0.7374 - val_accuracy: 0.7192\n",
      "Epoch 86/90\n",
      "119/119 [==============================] - 4s 32ms/step - loss: 0.4469 - accuracy: 0.8376 - val_loss: 0.7494 - val_accuracy: 0.6931\n",
      "Epoch 87/90\n",
      "119/119 [==============================] - 4s 33ms/step - loss: 0.4408 - accuracy: 0.8378 - val_loss: 0.7933 - val_accuracy: 0.6789\n",
      "Epoch 88/90\n",
      "119/119 [==============================] - 4s 32ms/step - loss: 0.4467 - accuracy: 0.8377 - val_loss: 0.6873 - val_accuracy: 0.7559\n",
      "Epoch 89/90\n",
      "119/119 [==============================] - 4s 32ms/step - loss: 0.4358 - accuracy: 0.8335 - val_loss: 0.7364 - val_accuracy: 0.7085\n",
      "Epoch 90/90\n",
      "119/119 [==============================] - 4s 32ms/step - loss: 0.4245 - accuracy: 0.8398 - val_loss: 0.7511 - val_accuracy: 0.7026\n"
     ]
    }
   ],
   "source": [
    "# Compiling the model\n",
    "hybrid_cnn_lstm_model.compile(loss='categorical_crossentropy',\n",
    "                 optimizer=hybrid_cnn_lstm_optimizer,\n",
    "                 metrics=['accuracy'],\n",
    "                )\n",
    "\n",
    "# Training and validating the model\n",
    "hybrid_cnn_lstm_model_results = hybrid_cnn_lstm_model.fit(x_train_aug,\n",
    "             y_train_aug,\n",
    "             batch_size=64,\n",
    "             epochs=epochs,\n",
    "             validation_data=(x_valid_aug, y_valid_aug), verbose=True,\n",
    "             callbacks=[tb_callback, early_stopping_cb]\n",
    "             )\n"
   ]
  },
  {
   "cell_type": "code",
   "execution_count": 25,
   "metadata": {},
   "outputs": [
    {
     "data": {
      "image/png": "[encoded data removed]",
      "text/plain": [
       "<Figure size 640x480 with 1 Axes>"
      ]
     },
     "metadata": {},
     "output_type": "display_data"
    },
    {
     "data": {
      "image/png": "[encoded data removed]",
      "text/plain": [
       "<Figure size 640x480 with 1 Axes>"
      ]
     },
     "metadata": {},
     "output_type": "display_data"
    }
   ],
   "source": [
    "import matplotlib.pyplot as plt\n",
    "\n",
    "# Plotting accuracy trajectory\n",
    "plt.plot(hybrid_cnn_lstm_model_results.history['accuracy'])\n",
    "plt.plot(hybrid_cnn_lstm_model_results.history['val_accuracy'])\n",
    "plt.title('Hybrid CNN-LSTM model accuracy trajectory')\n",
    "plt.ylabel('accuracy')\n",
    "plt.xlabel('epoch')\n",
    "plt.legend(['train', 'val'], loc='upper left')\n",
    "plt.show()\n",
    "\n",
    "# Plotting loss trajectory\n",
    "plt.plot(hybrid_cnn_lstm_model_results.history['loss'],'o')\n",
    "plt.plot(hybrid_cnn_lstm_model_results.history['val_loss'],'o')\n",
    "plt.title('Hybrid CNN-LSTM model loss trajectory')\n",
    "plt.ylabel('loss')\n",
    "plt.xlabel('epoch')\n",
    "plt.legend(['train', 'val'], loc='upper left')\n",
    "plt.show()"
   ]
  },
  {
   "cell_type": "code",
   "execution_count": 26,
   "metadata": {},
   "outputs": [
    {
     "name": "stdout",
     "output_type": "stream",
     "text": [
      "Test accuracy of the hybrid CNN-LSTM model: 0.7200902700424194\n"
     ]
    }
   ],
   "source": [
    "## Testing the hybrid CNN-LSTM model\n",
    "\n",
    "hybrid_cnn_lstm_score = hybrid_cnn_lstm_model.evaluate(x_test_aug, y_test_aug, verbose=0)\n",
    "print('Test accuracy of the hybrid CNN-LSTM model:',hybrid_cnn_lstm_score[1])"
   ]
  }
 ],
 "metadata": {
  "kernelspec": {
   "display_name": "ece247",
   "language": "python",
   "name": "python3"
  },
  "language_info": {
   "codemirror_mode": {
    "name": "ipython",
    "version": 3
   },
   "file_extension": ".py",
   "mimetype": "text/x-python",
   "name": "python",
   "nbconvert_exporter": "python",
   "pygments_lexer": "ipython3",
   "version": "3.10.13"
  }
 },
 "nbformat": 4,
 "nbformat_minor": 2
}
