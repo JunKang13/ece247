{
 "cells": [
  {
   "cell_type": "markdown",
   "metadata": {},
   "source": [
    "# Dropout\n",
    "\n",
    "In this notebook, you will implement dropout.  Then we will ask you to train a network with batchnorm and dropout, and acheive over 55% accuracy on CIFAR-10.\n",
    "\n",
    "CS231n has built a solid API for building these modular frameworks and training them, and we will use their very well implemented framework as opposed to \"reinventing the wheel.\"  This includes using their Solver, various utility functions, and their layer structure.  This also includes nndl.fc_net, nndl.layers, and nndl.layer_utils.  As in prior assignments, we thank Serena Yeung & Justin Johnson for permission to use code written for the CS 231n class (cs231n.stanford.edu).  "
   ]
  },
  {
   "cell_type": "code",
   "execution_count": 1,
   "metadata": {},
   "outputs": [],
   "source": [
    "## Import and setups\n",
    "\n",
    "import time\n",
    "import numpy as np\n",
    "import matplotlib.pyplot as plt\n",
    "from nndl.fc_net import *\n",
    "from nndl.layers import *\n",
    "from utils.data_utils import get_CIFAR10_data\n",
    "from utils.gradient_check import eval_numerical_gradient, eval_numerical_gradient_array\n",
    "from utils.solver import Solver\n",
    "\n",
    "%matplotlib inline\n",
    "plt.rcParams['figure.figsize'] = (10.0, 8.0) # set default size of plots\n",
    "plt.rcParams['image.interpolation'] = 'nearest'\n",
    "plt.rcParams['image.cmap'] = 'gray'\n",
    "\n",
    "# for auto-reloading external modules\n",
    "# see http://stackoverflow.com/questions/1907993/autoreload-of-modules-in-ipython\n",
    "%load_ext autoreload\n",
    "%autoreload 2\n",
    "\n",
    "def rel_error(x, y):\n",
    "  \"\"\" returns relative error \"\"\"\n",
    "  return np.max(np.abs(x - y) / (np.maximum(1e-8, np.abs(x) + np.abs(y))))"
   ]
  },
  {
   "cell_type": "code",
   "execution_count": 2,
   "metadata": {},
   "outputs": [
    {
     "name": "stdout",
     "output_type": "stream",
     "text": [
      "X_train: (49000, 3, 32, 32) \n",
      "y_train: (49000,) \n",
      "X_val: (1000, 3, 32, 32) \n",
      "y_val: (1000,) \n",
      "X_test: (1000, 3, 32, 32) \n",
      "y_test: (1000,) \n"
     ]
    }
   ],
   "source": [
    "# Load the (preprocessed) CIFAR10 data.\n",
    "\n",
    "data = get_CIFAR10_data()\n",
    "for k in data.keys():\n",
    "  print('{}: {} '.format(k, data[k].shape))"
   ]
  },
  {
   "cell_type": "markdown",
   "metadata": {},
   "source": [
    "## Dropout forward pass\n",
    "\n",
    "Implement the training and test time dropout forward pass, `dropout_forward`, in `nndl/layers.py`. After that, test your implementation by running the following cell."
   ]
  },
  {
   "cell_type": "code",
   "execution_count": 3,
   "metadata": {},
   "outputs": [
    {
     "name": "stdout",
     "output_type": "stream",
     "text": [
      "Running tests with p =  0.3\n",
      "Mean of input:  9.9989351275701\n",
      "Mean of train-time output:  10.012415018688296\n",
      "Mean of test-time output:  9.9989351275701\n",
      "Fraction of train-time output set to zero:  0.699732\n",
      "Fraction of test-time output set to zero:  0.0\n",
      "Running tests with p =  0.6\n",
      "Mean of input:  9.9989351275701\n",
      "Mean of train-time output:  9.970989562002126\n",
      "Mean of test-time output:  9.9989351275701\n",
      "Fraction of train-time output set to zero:  0.40176\n",
      "Fraction of test-time output set to zero:  0.0\n",
      "Running tests with p =  0.75\n",
      "Mean of input:  9.9989351275701\n",
      "Mean of train-time output:  9.974560463681994\n",
      "Mean of test-time output:  9.9989351275701\n",
      "Fraction of train-time output set to zero:  0.2518\n",
      "Fraction of test-time output set to zero:  0.0\n"
     ]
    }
   ],
   "source": [
    "x = np.random.randn(500, 500) + 10\n",
    "\n",
    "for p in [0.3, 0.6, 0.75]:\n",
    "  out, _ = dropout_forward(x, {'mode': 'train', 'p': p})\n",
    "  out_test, _ = dropout_forward(x, {'mode': 'test', 'p': p})\n",
    "\n",
    "  print('Running tests with p = ', p)\n",
    "  print('Mean of input: ', x.mean())\n",
    "  print('Mean of train-time output: ', out.mean())\n",
    "  print('Mean of test-time output: ', out_test.mean())\n",
    "  print('Fraction of train-time output set to zero: ', (out == 0).mean())\n",
    "  print('Fraction of test-time output set to zero: ', (out_test == 0).mean())"
   ]
  },
  {
   "cell_type": "markdown",
   "metadata": {},
   "source": [
    "## Dropout backward pass\n",
    "\n",
    "Implement the backward pass, `dropout_backward`, in `nndl/layers.py`.  After that, test your gradients by running the following cell:"
   ]
  },
  {
   "cell_type": "code",
   "execution_count": 4,
   "metadata": {},
   "outputs": [
    {
     "name": "stdout",
     "output_type": "stream",
     "text": [
      "dx relative error:  5.445610059047918e-11\n"
     ]
    }
   ],
   "source": [
    "x = np.random.randn(10, 10) + 10\n",
    "dout = np.random.randn(*x.shape)\n",
    "\n",
    "dropout_param = {'mode': 'train', 'p': 0.8, 'seed': 123}\n",
    "out, cache = dropout_forward(x, dropout_param)\n",
    "dx = dropout_backward(dout, cache)\n",
    "dx_num = eval_numerical_gradient_array(lambda xx: dropout_forward(xx, dropout_param)[0], x, dout)\n",
    "\n",
    "print('dx relative error: ', rel_error(dx, dx_num))"
   ]
  },
  {
   "cell_type": "markdown",
   "metadata": {},
   "source": [
    "## Implement a fully connected neural network with dropout layers\n",
    "\n",
    "Modify the `FullyConnectedNet()` class in `nndl/fc_net.py` to incorporate dropout.  A dropout layer should be incorporated after every ReLU layer.  Concretely, there shouldn't be a dropout at the output layer since there is no ReLU at the output layer. You will need to modify the class in the following areas:\n",
    "\n",
    "(1) In the forward pass, you will need to incorporate a dropout layer after every relu layer.\n",
    "\n",
    "(2) In the backward pass, you will need to incorporate a dropout backward pass layer.\n",
    "\n",
    "Check your implementation by running the following code.  Our W1 gradient relative error is on the order of 1e-6 (the largest of all the relative errors)."
   ]
  },
  {
   "cell_type": "code",
   "execution_count": 7,
   "metadata": {},
   "outputs": [
    {
     "name": "stdout",
     "output_type": "stream",
     "text": [
      "Running check with dropout =  0\n",
      "Initial loss:  2.305732641118233\n",
      "W1 relative error: 1.4817043011604148e-07\n",
      "W2 relative error: 6.086864311212125e-07\n",
      "W3 relative error: 6.495033246691517e-07\n",
      "b1 relative error: 3.1900455175927763e-09\n",
      "b2 relative error: 3.1832527506528413e-09\n",
      "b3 relative error: 9.763188978499458e-11\n",
      "\n",
      "\n",
      "Running check with dropout =  0.25\n",
      "Initial loss:  2.316757903046664\n",
      "W1 relative error: 2.5434618411440776e-07\n",
      "W2 relative error: 2.3503456929358e-10\n",
      "W3 relative error: 2.8670033753591517e-08\n",
      "b1 relative error: 1.905497666352814e-09\n",
      "b2 relative error: 3.674323004677854e-11\n",
      "b3 relative error: 1.1546077457937806e-10\n",
      "\n",
      "\n",
      "Running check with dropout =  0.5\n",
      "Initial loss:  2.2918578539642764\n",
      "W1 relative error: 4.658773754613762e-08\n",
      "W2 relative error: 1.1094877425175079e-07\n",
      "W3 relative error: 3.321232972823923e-08\n",
      "b1 relative error: 6.3332636755634494e-09\n",
      "b2 relative error: 6.565392694820071e-10\n",
      "b3 relative error: 6.348078081623221e-11\n",
      "\n",
      "\n"
     ]
    }
   ],
   "source": [
    "N, D, H1, H2, C = 2, 15, 20, 30, 10\n",
    "X = np.random.randn(N, D)\n",
    "y = np.random.randint(C, size=(N,))\n",
    "\n",
    "for dropout in [0, 0.25, 0.5]:\n",
    "  print('Running check with dropout = ', dropout)\n",
    "  model = FullyConnectedNet([H1, H2], input_dim=D, num_classes=C,\n",
    "                            weight_scale=5e-2, dtype=np.float64,\n",
    "                            dropout=dropout, seed=123)\n",
    "\n",
    "  loss, grads = model.loss(X, y)\n",
    "  print('Initial loss: ', loss)\n",
    "\n",
    "  for name in sorted(grads):\n",
    "    f = lambda _: model.loss(X, y)[0]\n",
    "    grad_num = eval_numerical_gradient(f, model.params[name], verbose=False, h=1e-5)\n",
    "    print('{} relative error: {}'.format(name, rel_error(grad_num, grads[name])))\n",
    "  print('\\n')"
   ]
  },
  {
   "cell_type": "markdown",
   "metadata": {},
   "source": [
    "## Dropout as a regularizer\n",
    "\n",
    "In class, we claimed that dropout acts as a regularizer by effectively bagging.  To check this, we will train two small networks, one with dropout and one without dropout.  "
   ]
  },
  {
   "cell_type": "code",
   "execution_count": 8,
   "metadata": {},
   "outputs": [
    {
     "name": "stdout",
     "output_type": "stream",
     "text": [
      "(Iteration 1 / 125) loss: 2.300804\n",
      "(Epoch 0 / 25) train acc: 0.220000; val_acc: 0.168000\n",
      "(Epoch 1 / 25) train acc: 0.188000; val_acc: 0.147000\n",
      "(Epoch 2 / 25) train acc: 0.266000; val_acc: 0.200000\n",
      "(Epoch 3 / 25) train acc: 0.338000; val_acc: 0.262000\n",
      "(Epoch 4 / 25) train acc: 0.378000; val_acc: 0.278000\n",
      "(Epoch 5 / 25) train acc: 0.428000; val_acc: 0.297000\n",
      "(Epoch 6 / 25) train acc: 0.468000; val_acc: 0.323000\n",
      "(Epoch 7 / 25) train acc: 0.494000; val_acc: 0.287000\n",
      "(Epoch 8 / 25) train acc: 0.566000; val_acc: 0.328000\n",
      "(Epoch 9 / 25) train acc: 0.572000; val_acc: 0.322000\n",
      "(Epoch 10 / 25) train acc: 0.622000; val_acc: 0.324000\n",
      "(Epoch 11 / 25) train acc: 0.670000; val_acc: 0.279000\n",
      "(Epoch 12 / 25) train acc: 0.710000; val_acc: 0.338000\n",
      "(Epoch 13 / 25) train acc: 0.746000; val_acc: 0.319000\n",
      "(Epoch 14 / 25) train acc: 0.792000; val_acc: 0.307000\n",
      "(Epoch 15 / 25) train acc: 0.834000; val_acc: 0.297000\n",
      "(Epoch 16 / 25) train acc: 0.876000; val_acc: 0.327000\n",
      "(Epoch 17 / 25) train acc: 0.886000; val_acc: 0.320000\n",
      "(Epoch 18 / 25) train acc: 0.918000; val_acc: 0.314000\n",
      "(Epoch 19 / 25) train acc: 0.922000; val_acc: 0.290000\n",
      "(Epoch 20 / 25) train acc: 0.944000; val_acc: 0.306000\n",
      "(Iteration 101 / 125) loss: 0.156105\n",
      "(Epoch 21 / 25) train acc: 0.968000; val_acc: 0.302000\n",
      "(Epoch 22 / 25) train acc: 0.978000; val_acc: 0.302000\n",
      "(Epoch 23 / 25) train acc: 0.976000; val_acc: 0.289000\n",
      "(Epoch 24 / 25) train acc: 0.986000; val_acc: 0.285000\n",
      "(Epoch 25 / 25) train acc: 0.978000; val_acc: 0.311000\n",
      "(Iteration 1 / 125) loss: 2.301328\n",
      "(Epoch 0 / 25) train acc: 0.154000; val_acc: 0.143000\n",
      "(Epoch 1 / 25) train acc: 0.214000; val_acc: 0.195000\n",
      "(Epoch 2 / 25) train acc: 0.252000; val_acc: 0.217000\n",
      "(Epoch 3 / 25) train acc: 0.276000; val_acc: 0.200000\n",
      "(Epoch 4 / 25) train acc: 0.308000; val_acc: 0.254000\n",
      "(Epoch 5 / 25) train acc: 0.316000; val_acc: 0.241000\n",
      "(Epoch 6 / 25) train acc: 0.322000; val_acc: 0.282000\n",
      "(Epoch 7 / 25) train acc: 0.354000; val_acc: 0.273000\n",
      "(Epoch 8 / 25) train acc: 0.364000; val_acc: 0.276000\n",
      "(Epoch 9 / 25) train acc: 0.408000; val_acc: 0.282000\n",
      "(Epoch 10 / 25) train acc: 0.454000; val_acc: 0.302000\n",
      "(Epoch 11 / 25) train acc: 0.472000; val_acc: 0.297000\n",
      "(Epoch 12 / 25) train acc: 0.498000; val_acc: 0.318000\n",
      "(Epoch 13 / 25) train acc: 0.510000; val_acc: 0.309000\n",
      "(Epoch 14 / 25) train acc: 0.534000; val_acc: 0.315000\n",
      "(Epoch 15 / 25) train acc: 0.546000; val_acc: 0.331000\n",
      "(Epoch 16 / 25) train acc: 0.584000; val_acc: 0.302000\n",
      "(Epoch 17 / 25) train acc: 0.626000; val_acc: 0.332000\n",
      "(Epoch 18 / 25) train acc: 0.614000; val_acc: 0.327000\n",
      "(Epoch 19 / 25) train acc: 0.626000; val_acc: 0.325000\n",
      "(Epoch 20 / 25) train acc: 0.656000; val_acc: 0.338000\n",
      "(Iteration 101 / 125) loss: 1.299296\n",
      "(Epoch 21 / 25) train acc: 0.676000; val_acc: 0.329000\n",
      "(Epoch 22 / 25) train acc: 0.684000; val_acc: 0.325000\n",
      "(Epoch 23 / 25) train acc: 0.730000; val_acc: 0.343000\n",
      "(Epoch 24 / 25) train acc: 0.736000; val_acc: 0.321000\n",
      "(Epoch 25 / 25) train acc: 0.768000; val_acc: 0.333000\n"
     ]
    }
   ],
   "source": [
    "# Train two identical nets, one with dropout and one without\n",
    "\n",
    "num_train = 500\n",
    "small_data = {\n",
    "  'X_train': data['X_train'][:num_train],\n",
    "  'y_train': data['y_train'][:num_train],\n",
    "  'X_val': data['X_val'],\n",
    "  'y_val': data['y_val'],\n",
    "}\n",
    "\n",
    "solvers = {}\n",
    "dropout_choices = [0, 0.6]\n",
    "for dropout in dropout_choices:\n",
    "  model = FullyConnectedNet([100, 100, 100], dropout=dropout)\n",
    "\n",
    "  solver = Solver(model, small_data,\n",
    "                  num_epochs=25, batch_size=100,\n",
    "                  update_rule='adam',\n",
    "                  optim_config={\n",
    "                    'learning_rate': 5e-4,\n",
    "                  },\n",
    "                  verbose=True, print_every=100)\n",
    "  solver.train()\n",
    "  solvers[dropout] = solver"
   ]
  },
  {
   "cell_type": "code",
   "execution_count": 9,
   "metadata": {},
   "outputs": [
    {
     "data": {
      "image/png": "[encoded data removed]",
      "text/plain": [
       "<Figure size 1500x1500 with 2 Axes>"
      ]
     },
     "metadata": {},
     "output_type": "display_data"
    }
   ],
   "source": [
    "# Plot train and validation accuracies of the two models\n",
    "\n",
    "train_accs = []\n",
    "val_accs = []\n",
    "for dropout in dropout_choices:\n",
    "  solver = solvers[dropout]\n",
    "  train_accs.append(solver.train_acc_history[-1])\n",
    "  val_accs.append(solver.val_acc_history[-1])\n",
    "\n",
    "plt.subplot(3, 1, 1)\n",
    "for dropout in dropout_choices:\n",
    "  plt.plot(solvers[dropout].train_acc_history, 'o', label='%.2f dropout' % dropout)\n",
    "plt.title('Train accuracy')\n",
    "plt.xlabel('Epoch')\n",
    "plt.ylabel('Accuracy')\n",
    "plt.legend(ncol=2, loc='lower right')\n",
    "  \n",
    "plt.subplot(3, 1, 2)\n",
    "for dropout in dropout_choices:\n",
    "  plt.plot(solvers[dropout].val_acc_history, 'o', label='%.2f dropout' % dropout)\n",
    "plt.title('Val accuracy')\n",
    "plt.xlabel('Epoch')\n",
    "plt.ylabel('Accuracy')\n",
    "plt.legend(ncol=2, loc='lower right')\n",
    "\n",
    "plt.gcf().set_size_inches(15, 15)\n",
    "plt.show()"
   ]
  },
  {
   "cell_type": "markdown",
   "metadata": {},
   "source": [
    "## Question\n",
    "\n",
    "Based off the results of this experiment, is dropout performing regularization?  Explain your answer."
   ]
  },
  {
   "cell_type": "markdown",
   "metadata": {},
   "source": [
    "## Answer:\n",
    "\n",
    "Yes. Though both the training and validation accuracy while using dropout is apparently lower than without using dropout. The training accuracy reached over 90% while only 30% ish without using dropout, this hugh difference indicates overfitting. By incorporating dropout, it performs regularization, the difference between training and validation accuracy is relatively small, so the network is being trained well with less potential of overfitting. "
   ]
  },
  {
   "cell_type": "markdown",
   "metadata": {},
   "source": [
    "## Final part of the assignment\n",
    "\n",
    "Get over 55% validation accuracy on CIFAR-10 by using the layers you have implemented.  You will be graded according to the following equation:\n",
    "\n",
    "min(floor((X - 32%)) / 28%, 1) \n",
    "where if you get 60% or higher validation accuracy, you get full points."
   ]
  },
  {
   "cell_type": "code",
   "execution_count": 11,
   "metadata": {
    "scrolled": false
   },
   "outputs": [
    {
     "name": "stdout",
     "output_type": "stream",
     "text": [
      "(Iteration 1 / 29400) loss: 2.301969\n",
      "(Epoch 0 / 60) train acc: 0.118000; val_acc: 0.120000\n",
      "(Epoch 1 / 60) train acc: 0.414000; val_acc: 0.438000\n",
      "(Iteration 501 / 29400) loss: 1.627797\n",
      "(Epoch 2 / 60) train acc: 0.483000; val_acc: 0.479000\n",
      "(Iteration 1001 / 29400) loss: 1.646053\n",
      "(Epoch 3 / 60) train acc: 0.527000; val_acc: 0.508000\n",
      "(Iteration 1501 / 29400) loss: 1.440879\n",
      "(Epoch 4 / 60) train acc: 0.553000; val_acc: 0.508000\n",
      "(Iteration 2001 / 29400) loss: 1.200807\n",
      "(Epoch 5 / 60) train acc: 0.555000; val_acc: 0.522000\n",
      "(Iteration 2501 / 29400) loss: 1.430359\n",
      "(Epoch 6 / 60) train acc: 0.597000; val_acc: 0.526000\n",
      "(Iteration 3001 / 29400) loss: 1.377080\n",
      "(Epoch 7 / 60) train acc: 0.595000; val_acc: 0.537000\n",
      "(Iteration 3501 / 29400) loss: 1.362399\n",
      "(Epoch 8 / 60) train acc: 0.601000; val_acc: 0.539000\n",
      "(Iteration 4001 / 29400) loss: 1.246505\n",
      "(Epoch 9 / 60) train acc: 0.635000; val_acc: 0.532000\n",
      "(Iteration 4501 / 29400) loss: 1.058232\n",
      "(Epoch 10 / 60) train acc: 0.651000; val_acc: 0.551000\n",
      "(Iteration 5001 / 29400) loss: 1.226219\n",
      "(Epoch 11 / 60) train acc: 0.640000; val_acc: 0.546000\n",
      "(Iteration 5501 / 29400) loss: 1.095094\n",
      "(Epoch 12 / 60) train acc: 0.688000; val_acc: 0.567000\n",
      "(Iteration 6001 / 29400) loss: 1.387377\n",
      "(Epoch 13 / 60) train acc: 0.680000; val_acc: 0.575000\n",
      "(Iteration 6501 / 29400) loss: 0.973891\n",
      "(Epoch 14 / 60) train acc: 0.690000; val_acc: 0.568000\n",
      "(Iteration 7001 / 29400) loss: 1.189544\n",
      "(Epoch 15 / 60) train acc: 0.710000; val_acc: 0.562000\n",
      "(Iteration 7501 / 29400) loss: 1.388306\n",
      "(Epoch 16 / 60) train acc: 0.720000; val_acc: 0.564000\n",
      "(Iteration 8001 / 29400) loss: 0.956219\n",
      "(Epoch 17 / 60) train acc: 0.715000; val_acc: 0.566000\n",
      "(Iteration 8501 / 29400) loss: 0.954533\n",
      "(Epoch 18 / 60) train acc: 0.730000; val_acc: 0.587000\n",
      "(Iteration 9001 / 29400) loss: 1.071566\n",
      "(Epoch 19 / 60) train acc: 0.755000; val_acc: 0.570000\n",
      "(Iteration 9501 / 29400) loss: 0.866327\n",
      "(Epoch 20 / 60) train acc: 0.743000; val_acc: 0.577000\n",
      "(Iteration 10001 / 29400) loss: 1.008668\n",
      "(Epoch 21 / 60) train acc: 0.772000; val_acc: 0.566000\n",
      "(Iteration 10501 / 29400) loss: 0.600048\n",
      "(Epoch 22 / 60) train acc: 0.765000; val_acc: 0.566000\n",
      "(Iteration 11001 / 29400) loss: 0.787849\n",
      "(Epoch 23 / 60) train acc: 0.809000; val_acc: 0.560000\n",
      "(Iteration 11501 / 29400) loss: 0.826496\n",
      "(Epoch 24 / 60) train acc: 0.806000; val_acc: 0.569000\n",
      "(Iteration 12001 / 29400) loss: 0.909720\n",
      "(Epoch 25 / 60) train acc: 0.785000; val_acc: 0.578000\n",
      "(Iteration 12501 / 29400) loss: 0.738788\n",
      "(Epoch 26 / 60) train acc: 0.809000; val_acc: 0.567000\n",
      "(Iteration 13001 / 29400) loss: 0.814093\n",
      "(Epoch 27 / 60) train acc: 0.809000; val_acc: 0.564000\n",
      "(Iteration 13501 / 29400) loss: 0.940126\n",
      "(Epoch 28 / 60) train acc: 0.799000; val_acc: 0.585000\n",
      "(Iteration 14001 / 29400) loss: 0.884466\n",
      "(Epoch 29 / 60) train acc: 0.828000; val_acc: 0.576000\n",
      "(Iteration 14501 / 29400) loss: 0.679866\n",
      "(Epoch 30 / 60) train acc: 0.818000; val_acc: 0.582000\n",
      "(Iteration 15001 / 29400) loss: 0.698177\n",
      "(Epoch 31 / 60) train acc: 0.831000; val_acc: 0.592000\n",
      "(Iteration 15501 / 29400) loss: 0.761948\n",
      "(Epoch 32 / 60) train acc: 0.833000; val_acc: 0.577000\n",
      "(Iteration 16001 / 29400) loss: 0.656886\n",
      "(Epoch 33 / 60) train acc: 0.851000; val_acc: 0.593000\n",
      "(Iteration 16501 / 29400) loss: 0.702934\n",
      "(Epoch 34 / 60) train acc: 0.849000; val_acc: 0.592000\n",
      "(Iteration 17001 / 29400) loss: 0.648941\n",
      "(Epoch 35 / 60) train acc: 0.857000; val_acc: 0.589000\n",
      "(Iteration 17501 / 29400) loss: 0.789206\n",
      "(Epoch 36 / 60) train acc: 0.844000; val_acc: 0.586000\n",
      "(Iteration 18001 / 29400) loss: 0.555012\n",
      "(Epoch 37 / 60) train acc: 0.871000; val_acc: 0.593000\n",
      "(Iteration 18501 / 29400) loss: 0.646866\n",
      "(Epoch 38 / 60) train acc: 0.862000; val_acc: 0.574000\n",
      "(Iteration 19001 / 29400) loss: 0.499660\n",
      "(Epoch 39 / 60) train acc: 0.872000; val_acc: 0.589000\n",
      "(Iteration 19501 / 29400) loss: 0.896462\n",
      "(Epoch 40 / 60) train acc: 0.893000; val_acc: 0.590000\n",
      "(Iteration 20001 / 29400) loss: 0.621257\n",
      "(Epoch 41 / 60) train acc: 0.869000; val_acc: 0.588000\n",
      "(Iteration 20501 / 29400) loss: 0.566740\n",
      "(Epoch 42 / 60) train acc: 0.877000; val_acc: 0.601000\n",
      "(Iteration 21001 / 29400) loss: 0.448167\n",
      "(Epoch 43 / 60) train acc: 0.880000; val_acc: 0.582000\n",
      "(Iteration 21501 / 29400) loss: 0.569527\n",
      "(Epoch 44 / 60) train acc: 0.887000; val_acc: 0.585000\n",
      "(Iteration 22001 / 29400) loss: 0.509080\n",
      "(Epoch 45 / 60) train acc: 0.911000; val_acc: 0.574000\n",
      "(Iteration 22501 / 29400) loss: 0.568517\n",
      "(Epoch 46 / 60) train acc: 0.908000; val_acc: 0.588000\n",
      "(Iteration 23001 / 29400) loss: 0.588509\n",
      "(Epoch 47 / 60) train acc: 0.881000; val_acc: 0.592000\n",
      "(Iteration 23501 / 29400) loss: 0.741474\n",
      "(Epoch 48 / 60) train acc: 0.908000; val_acc: 0.590000\n",
      "(Iteration 24001 / 29400) loss: 0.612881\n",
      "(Epoch 49 / 60) train acc: 0.895000; val_acc: 0.584000\n",
      "(Epoch 50 / 60) train acc: 0.894000; val_acc: 0.581000\n",
      "(Iteration 24501 / 29400) loss: 0.703361\n",
      "(Epoch 51 / 60) train acc: 0.900000; val_acc: 0.583000\n",
      "(Iteration 25001 / 29400) loss: 0.680104\n",
      "(Epoch 52 / 60) train acc: 0.897000; val_acc: 0.591000\n",
      "(Iteration 25501 / 29400) loss: 0.462281\n",
      "(Epoch 53 / 60) train acc: 0.906000; val_acc: 0.602000\n",
      "(Iteration 26001 / 29400) loss: 0.521302\n",
      "(Epoch 54 / 60) train acc: 0.909000; val_acc: 0.595000\n",
      "(Iteration 26501 / 29400) loss: 0.480151\n",
      "(Epoch 55 / 60) train acc: 0.905000; val_acc: 0.602000\n",
      "(Iteration 27001 / 29400) loss: 0.491597\n",
      "(Epoch 56 / 60) train acc: 0.917000; val_acc: 0.593000\n",
      "(Iteration 27501 / 29400) loss: 0.500331\n",
      "(Epoch 57 / 60) train acc: 0.907000; val_acc: 0.588000\n",
      "(Iteration 28001 / 29400) loss: 0.682855\n",
      "(Epoch 58 / 60) train acc: 0.914000; val_acc: 0.598000\n",
      "(Iteration 28501 / 29400) loss: 0.597768\n",
      "(Epoch 59 / 60) train acc: 0.920000; val_acc: 0.589000\n",
      "(Iteration 29001 / 29400) loss: 0.499095\n",
      "(Epoch 60 / 60) train acc: 0.897000; val_acc: 0.594000\n"
     ]
    }
   ],
   "source": [
    "# ================================================================ #\n",
    "# YOUR CODE HERE:\n",
    "#   Implement a FC-net that achieves at least 55% validation accuracy\n",
    "#   on CIFAR-10.\n",
    "# ================================================================ #\n",
    "optimizer = 'adam'\n",
    "best_model = None\n",
    "\n",
    "layer_dims = [600, 600, 600, 600, 300, 100]\n",
    "weight_scale = 1e-3\n",
    "learning_rate = 2e-3\n",
    "lr_decay = 0.95\n",
    "\n",
    "model = FullyConnectedNet(layer_dims, weight_scale=weight_scale, dropout = 0.7, reg = 0, use_batchnorm=True)\n",
    "\n",
    "solver = Solver(model, data,\n",
    "                num_epochs=60, batch_size=100,\n",
    "                update_rule=optimizer,\n",
    "                optim_config={\n",
    "                  'learning_rate': learning_rate,\n",
    "                },\n",
    "                lr_decay=lr_decay,\n",
    "                verbose=True, print_every=500)\n",
    "solver.train()\n",
    "\n",
    "# ================================================================ #\n",
    "# END YOUR CODE HERE\n",
    "# ================================================================ #\n"
   ]
  },
  {
   "cell_type": "code",
   "execution_count": 12,
   "metadata": {},
   "outputs": [
    {
     "name": "stdout",
     "output_type": "stream",
     "text": [
      "Validation accuracy is: 0.604\n",
      "Testing accuracy is: 0.604\n"
     ]
    }
   ],
   "source": [
    "y_val_pred = np.argmax(model.loss(data['X_val']), axis = 1)\n",
    "y_test_pred = np.argmax(model.loss(data['X_test']), axis = 1)\n",
    "print('Validation accuracy is:', np.mean(y_val_pred == data['y_val']))\n",
    "print('Testing accuracy is:', np.mean(y_test_pred == data['y_test']))"
   ]
  },
  {
   "cell_type": "code",
   "execution_count": null,
   "metadata": {},
   "outputs": [],
   "source": []
  }
 ],
 "metadata": {
  "kernelspec": {
   "display_name": "Python 3 (ipykernel)",
   "language": "python",
   "name": "python3"
  },
  "language_info": {
   "codemirror_mode": {
    "name": "ipython",
    "version": 3
   },
   "file_extension": ".py",
   "mimetype": "text/x-python",
   "name": "python",
   "nbconvert_exporter": "python",
   "pygments_lexer": "ipython3",
   "version": "3.7.16"
  }
 },
 "nbformat": 4,
 "nbformat_minor": 2
}
